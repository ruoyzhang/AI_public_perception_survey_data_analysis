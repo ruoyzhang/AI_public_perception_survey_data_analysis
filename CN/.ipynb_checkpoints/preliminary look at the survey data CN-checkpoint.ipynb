{
 "cells": [
  {
   "cell_type": "code",
   "execution_count": 36,
   "metadata": {},
   "outputs": [],
   "source": [
    "import pandas as pd\n",
    "import os\n",
    "from consolidation import group_columns, consolidate_mc #these are custom functions, see consolidation.py"
   ]
  },
  {
   "cell_type": "code",
   "execution_count": 37,
   "metadata": {},
   "outputs": [],
   "source": [
    "# set data dir\n",
    "data_dir = \"../../AI_perception_survey_data/CN\""
   ]
  },
  {
   "cell_type": "code",
   "execution_count": 38,
   "metadata": {},
   "outputs": [],
   "source": [
    "# get file name\n",
    "fname = [file for file in os.listdir(data_dir) if file[0] != \".\"]"
   ]
  },
  {
   "cell_type": "code",
   "execution_count": 39,
   "metadata": {},
   "outputs": [],
   "source": [
    "# load in the data\n",
    "data = pd.read_csv(os.path.join(data_dir, fname[0]), encoding='utf-8')"
   ]
  },
  {
   "cell_type": "code",
   "execution_count": 40,
   "metadata": {},
   "outputs": [],
   "source": [
    "# setting vars to represent the questions for easy ref\n",
    "questions = group_columns(data)"
   ]
  },
  {
   "cell_type": "code",
   "execution_count": 41,
   "metadata": {},
   "outputs": [
    {
     "data": {
      "text/plain": [
       "dict_keys(['1', '2', '3', '4', '5', '6', '7', '8', '9', '10', '11', '12', '13', '14', '15', '16', '17', '18', '19', '20', '21', '22', '23', '24', '25', '26', '27', '28', '29'])"
      ]
     },
     "execution_count": 41,
     "metadata": {},
     "output_type": "execute_result"
    }
   ],
   "source": [
    "# these are the easy ref keys for the column groups\n",
    "questions.keys()"
   ]
  },
  {
   "cell_type": "code",
   "execution_count": 42,
   "metadata": {},
   "outputs": [
    {
     "name": "stdout",
     "output_type": "stream",
     "text": [
      "['2', '10', '11', '14', '15', '18', '19', '21', '24']\n"
     ]
    }
   ],
   "source": [
    "# determining whhich questions have multiple cols (and therefore need consolidating)\n",
    "cols_to_consolidate = [k for k,v in questions.items() if len(v) > 1]\n",
    "print(cols_to_consolidate)"
   ]
  },
  {
   "cell_type": "markdown",
   "metadata": {},
   "source": [
    "## consolidating for all multiple choice questions in one go"
   ]
  },
  {
   "cell_type": "code",
   "execution_count": 43,
   "metadata": {},
   "outputs": [],
   "source": [
    "# now consolidating\n",
    "for col in cols_to_consolidate:\n",
    "    # getting the consolidated list\n",
    "    q_answers = consolidate_mc(data, questions, col)\n",
    "    # creating new column\n",
    "    data['q' + col] = q_answers"
   ]
  },
  {
   "cell_type": "code",
   "execution_count": 44,
   "metadata": {},
   "outputs": [
    {
     "data": {
      "text/plain": [
       "Index(['编号', '开始答题时间', '结束答题时间', 'QQ', '微信标识', '自定义字段', '1.您如何评价您的人工智能技术的知识？',\n",
       "       '2.关于人工智能的性质或者能力的阐述，以下哪些是错误的？:安卓或者iOS智能手机上通常都有人工智能应用程序',\n",
       "       '2.关于人工智能的性质或者能力的阐述，以下哪些是错误的？:人工智能在现阶段只存在于学术科研之中，尚未广泛的商业化',\n",
       "       '2.关于人工智能的性质或者能力的阐述，以下哪些是错误的？:人工智能是连接起来的多台电脑',\n",
       "       ...\n",
       "       'Unnamed: 94', 'q2', 'q10', 'q11', 'q14', 'q15', 'q18', 'q19', 'q21',\n",
       "       'q24'],\n",
       "      dtype='object', length=104)"
      ]
     },
     "execution_count": 44,
     "metadata": {},
     "output_type": "execute_result"
    }
   ],
   "source": [
    "data.columns"
   ]
  },
  {
   "cell_type": "code",
   "execution_count": 45,
   "metadata": {},
   "outputs": [
    {
     "data": {
      "text/plain": [
       "['2', '10', '11', '14', '15', '18', '19', '21', '24']"
      ]
     },
     "execution_count": 45,
     "metadata": {},
     "output_type": "execute_result"
    }
   ],
   "source": [
    "cols_to_consolidate"
   ]
  },
  {
   "cell_type": "markdown",
   "metadata": {},
   "source": [
    "Ok so all columns consolidated properly"
   ]
  },
  {
   "cell_type": "markdown",
   "metadata": {},
   "source": [
    "## removing the consolidated columns and renaming the remaining questions for consistancy"
   ]
  },
  {
   "cell_type": "code",
   "execution_count": 46,
   "metadata": {},
   "outputs": [],
   "source": [
    "# determining the cols we'd like to keep\n",
    "new_cols = [col for col in data.columns if col.split('.')[0] not in cols_to_consolidate]"
   ]
  },
  {
   "cell_type": "code",
   "execution_count": 47,
   "metadata": {},
   "outputs": [],
   "source": [
    "# removing that weird columns that'd just null\n",
    "new_cols.remove('Unnamed: 94')"
   ]
  },
  {
   "cell_type": "code",
   "execution_count": 48,
   "metadata": {},
   "outputs": [],
   "source": [
    "data = data[new_cols]"
   ]
  },
  {
   "cell_type": "code",
   "execution_count": 49,
   "metadata": {},
   "outputs": [],
   "source": [
    "# renaming the single choice questions\n",
    "data.columns = ['q' + col.split('.')[0] if len(col.split('.')) > 1 else col for col in data.columns]"
   ]
  },
  {
   "cell_type": "code",
   "execution_count": 50,
   "metadata": {},
   "outputs": [],
   "source": [
    "# removing the other unwanted columns: 'QQ', '自定义字段'\n",
    "data.drop(['QQ', '自定义字段'], axis = 1, inplace = True)"
   ]
  },
  {
   "cell_type": "code",
   "execution_count": 51,
   "metadata": {},
   "outputs": [],
   "source": [
    "# renaming single digit question cols to double digit for sorting purposes\n",
    "data.columns = ['q0' + col[1:] if col[0] == 'q' and len(col) < 3 else col for col in data.columns]"
   ]
  },
  {
   "cell_type": "code",
   "execution_count": 52,
   "metadata": {},
   "outputs": [],
   "source": [
    "# reorganising col orders\n",
    "data = data[sorted(data.columns)]"
   ]
  },
  {
   "cell_type": "code",
   "execution_count": 53,
   "metadata": {},
   "outputs": [
    {
     "data": {
      "text/plain": [
       "Index(['q01', 'q02', 'q03', 'q04', 'q05', 'q06', 'q07', 'q08', 'q09', 'q10',\n",
       "       'q11', 'q12', 'q13', 'q14', 'q15', 'q16', 'q17', 'q18', 'q19', 'q20',\n",
       "       'q21', 'q22', 'q23', 'q24', 'q25', 'q26', 'q27', 'q28', 'q29', '开始答题时间',\n",
       "       '微信标识', '结束答题时间', '编号'],\n",
       "      dtype='object')"
      ]
     },
     "execution_count": 53,
     "metadata": {},
     "output_type": "execute_result"
    }
   ],
   "source": [
    "data.columns"
   ]
  },
  {
   "cell_type": "code",
   "execution_count": 54,
   "metadata": {},
   "outputs": [],
   "source": [
    "# translating the cols into English cos I don't like switching between language inputs\n",
    "translated_cols = list(data.columns[:29]) + ['begin_time', 'wechat_icon', 'end_time', 'index']"
   ]
  },
  {
   "cell_type": "code",
   "execution_count": 55,
   "metadata": {},
   "outputs": [],
   "source": [
    "data.columns = translated_cols"
   ]
  },
  {
   "cell_type": "markdown",
   "metadata": {},
   "source": [
    "## removing text in the answers and only keeping the indices"
   ]
  },
  {
   "cell_type": "markdown",
   "metadata": {},
   "source": [
    "# let's save this for further analysis"
   ]
  },
  {
   "cell_type": "code",
   "execution_count": null,
   "metadata": {},
   "outputs": [],
   "source": []
  }
 ],
 "metadata": {
  "kernelspec": {
   "display_name": "Python 3",
   "language": "python",
   "name": "python3"
  },
  "language_info": {
   "codemirror_mode": {
    "name": "ipython",
    "version": 3
   },
   "file_extension": ".py",
   "mimetype": "text/x-python",
   "name": "python",
   "nbconvert_exporter": "python",
   "pygments_lexer": "ipython3",
   "version": "3.6.4"
  }
 },
 "nbformat": 4,
 "nbformat_minor": 2
}
