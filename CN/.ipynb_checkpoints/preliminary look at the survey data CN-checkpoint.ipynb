{
 "cells": [
  {
   "cell_type": "code",
   "execution_count": 1,
   "metadata": {},
   "outputs": [],
   "source": [
    "import pandas as pd\n",
    "import os\n",
    "from consolidation import group_columns, consolidate_mc, simplify_sgq #these are custom functions, see consolidation.py\n",
    "import matplotlib.pyplot as plt\n",
    "from math import log\n",
    "from sklearn.mixture import GaussianMixture as GM\n",
    "import numpy as np"
   ]
  },
  {
   "cell_type": "code",
   "execution_count": 2,
   "metadata": {},
   "outputs": [],
   "source": [
    "# set data dir\n",
    "data_dir = \"../../AI_perception_survey_data/CN\""
   ]
  },
  {
   "cell_type": "code",
   "execution_count": 3,
   "metadata": {},
   "outputs": [],
   "source": [
    "# get file name\n",
    "fname = [file for file in os.listdir(data_dir) if file[0] != \".\"]"
   ]
  },
  {
   "cell_type": "code",
   "execution_count": 4,
   "metadata": {},
   "outputs": [],
   "source": [
    "# load in the data\n",
    "data = pd.read_csv(os.path.join(data_dir, fname[0]), encoding='utf-8')"
   ]
  },
  {
   "cell_type": "code",
   "execution_count": 5,
   "metadata": {},
   "outputs": [],
   "source": [
    "# setting vars to represent the questions for easy ref\n",
    "questions = group_columns(data)"
   ]
  },
  {
   "cell_type": "code",
   "execution_count": 6,
   "metadata": {},
   "outputs": [
    {
     "data": {
      "text/plain": [
       "dict_keys(['1', '2', '3', '4', '5', '6', '7', '8', '9', '10', '11', '12', '13', '14', '15', '16', '17', '18', '19', '20', '21', '22', '23', '24', '25', '26', '27', '28', '29'])"
      ]
     },
     "execution_count": 6,
     "metadata": {},
     "output_type": "execute_result"
    }
   ],
   "source": [
    "# these are the easy ref keys for the column groups\n",
    "questions.keys()"
   ]
  },
  {
   "cell_type": "code",
   "execution_count": 7,
   "metadata": {},
   "outputs": [
    {
     "name": "stdout",
     "output_type": "stream",
     "text": [
      "['2', '10', '11', '14', '15', '18', '19', '21', '24']\n"
     ]
    }
   ],
   "source": [
    "# determining whhich questions have multiple cols (and therefore need consolidating)\n",
    "cols_to_consolidate = [k for k,v in questions.items() if len(v) > 1]\n",
    "print(cols_to_consolidate)"
   ]
  },
  {
   "cell_type": "markdown",
   "metadata": {},
   "source": [
    "## consolidating for all multiple choice questions in one go"
   ]
  },
  {
   "cell_type": "code",
   "execution_count": 8,
   "metadata": {},
   "outputs": [],
   "source": [
    "# now consolidating\n",
    "for col in cols_to_consolidate:\n",
    "    # getting the consolidated list\n",
    "    q_answers = consolidate_mc(data, questions, col)\n",
    "    # creating new column\n",
    "    data['q' + col] = q_answers"
   ]
  },
  {
   "cell_type": "code",
   "execution_count": 9,
   "metadata": {},
   "outputs": [
    {
     "data": {
      "text/plain": [
       "Index(['编号', '开始答题时间', '结束答题时间', 'QQ', '微信标识', '自定义字段', '1.您如何评价您的人工智能技术的知识？',\n",
       "       '2.关于人工智能的性质或者能力的阐述，以下哪些是错误的？:安卓或者iOS智能手机上通常都有人工智能应用程序',\n",
       "       '2.关于人工智能的性质或者能力的阐述，以下哪些是错误的？:人工智能在现阶段只存在于学术科研之中，尚未广泛的商业化',\n",
       "       '2.关于人工智能的性质或者能力的阐述，以下哪些是错误的？:人工智能是连接起来的多台电脑',\n",
       "       ...\n",
       "       'Unnamed: 94', 'q2', 'q10', 'q11', 'q14', 'q15', 'q18', 'q19', 'q21',\n",
       "       'q24'],\n",
       "      dtype='object', length=104)"
      ]
     },
     "execution_count": 9,
     "metadata": {},
     "output_type": "execute_result"
    }
   ],
   "source": [
    "data.columns"
   ]
  },
  {
   "cell_type": "code",
   "execution_count": 10,
   "metadata": {},
   "outputs": [
    {
     "data": {
      "text/plain": [
       "['2', '10', '11', '14', '15', '18', '19', '21', '24']"
      ]
     },
     "execution_count": 10,
     "metadata": {},
     "output_type": "execute_result"
    }
   ],
   "source": [
    "cols_to_consolidate"
   ]
  },
  {
   "cell_type": "markdown",
   "metadata": {},
   "source": [
    "Ok so all columns consolidated properly"
   ]
  },
  {
   "cell_type": "markdown",
   "metadata": {},
   "source": [
    "## removing the consolidated columns and renaming the remaining questions for consistancy"
   ]
  },
  {
   "cell_type": "code",
   "execution_count": 11,
   "metadata": {},
   "outputs": [],
   "source": [
    "# determining the cols we'd like to keep\n",
    "new_cols = [col for col in data.columns if col.split('.')[0] not in cols_to_consolidate]"
   ]
  },
  {
   "cell_type": "code",
   "execution_count": 12,
   "metadata": {},
   "outputs": [],
   "source": [
    "# removing that weird columns that's just null\n",
    "new_cols.remove('Unnamed: 94')"
   ]
  },
  {
   "cell_type": "code",
   "execution_count": 13,
   "metadata": {},
   "outputs": [],
   "source": [
    "# removing other unwanted cols\n",
    "data = data[new_cols]"
   ]
  },
  {
   "cell_type": "code",
   "execution_count": 14,
   "metadata": {},
   "outputs": [],
   "source": [
    "# renaming the single choice questions\n",
    "data.columns = ['q' + col.split('.')[0] if len(col.split('.')) > 1 else col for col in data.columns]"
   ]
  },
  {
   "cell_type": "code",
   "execution_count": 15,
   "metadata": {},
   "outputs": [],
   "source": [
    "# removing the other unwanted columns: 'QQ', '自定义字段'\n",
    "data.drop(['QQ', '自定义字段'], axis = 1, inplace = True)"
   ]
  },
  {
   "cell_type": "code",
   "execution_count": 16,
   "metadata": {},
   "outputs": [],
   "source": [
    "# renaming single digit question cols to double digit for sorting purposes\n",
    "data.columns = ['q0' + col[1:] if col[0] == 'q' and len(col) < 3 else col for col in data.columns]"
   ]
  },
  {
   "cell_type": "code",
   "execution_count": 17,
   "metadata": {},
   "outputs": [],
   "source": [
    "# reorganising col orders\n",
    "data = data[sorted(data.columns)]"
   ]
  },
  {
   "cell_type": "code",
   "execution_count": 18,
   "metadata": {},
   "outputs": [
    {
     "data": {
      "text/plain": [
       "Index(['q01', 'q02', 'q03', 'q04', 'q05', 'q06', 'q07', 'q08', 'q09', 'q10',\n",
       "       'q11', 'q12', 'q13', 'q14', 'q15', 'q16', 'q17', 'q18', 'q19', 'q20',\n",
       "       'q21', 'q22', 'q23', 'q24', 'q25', 'q26', 'q27', 'q28', 'q29', '开始答题时间',\n",
       "       '微信标识', '结束答题时间', '编号'],\n",
       "      dtype='object')"
      ]
     },
     "execution_count": 18,
     "metadata": {},
     "output_type": "execute_result"
    }
   ],
   "source": [
    "data.columns"
   ]
  },
  {
   "cell_type": "code",
   "execution_count": 19,
   "metadata": {},
   "outputs": [],
   "source": [
    "# translating the cols into English cos I don't like switching between language inputs\n",
    "translated_cols = list(data.columns[:29]) + ['begin_time', 'wechat_icon', 'end_time', 'index']"
   ]
  },
  {
   "cell_type": "code",
   "execution_count": 20,
   "metadata": {},
   "outputs": [],
   "source": [
    "data.columns = translated_cols"
   ]
  },
  {
   "cell_type": "markdown",
   "metadata": {},
   "source": [
    "# There seems to be a problem with q3"
   ]
  },
  {
   "cell_type": "code",
   "execution_count": 21,
   "metadata": {
    "scrolled": true
   },
   "outputs": [
    {
     "data": {
      "text/plain": [
       "q01               3\n",
       "q02               0\n",
       "q03            1222\n",
       "q04               0\n",
       "q05               0\n",
       "q06               0\n",
       "q07               0\n",
       "q08               0\n",
       "q09               0\n",
       "q10               0\n",
       "q11               0\n",
       "q12               0\n",
       "q13               0\n",
       "q14               0\n",
       "q15               0\n",
       "q16               0\n",
       "q17               0\n",
       "q18               0\n",
       "q19               0\n",
       "q20               0\n",
       "q21               0\n",
       "q22               0\n",
       "q23               0\n",
       "q24               0\n",
       "q25               0\n",
       "q26               0\n",
       "q27               0\n",
       "q28               0\n",
       "q29               0\n",
       "begin_time        0\n",
       "wechat_icon     251\n",
       "end_time          0\n",
       "index             0\n",
       "dtype: int64"
      ]
     },
     "execution_count": 21,
     "metadata": {},
     "output_type": "execute_result"
    }
   ],
   "source": [
    "data.isnull().sum()"
   ]
  },
  {
   "cell_type": "code",
   "execution_count": 22,
   "metadata": {},
   "outputs": [
    {
     "data": {
      "text/plain": [
       "1243"
      ]
     },
     "execution_count": 22,
     "metadata": {},
     "output_type": "execute_result"
    }
   ],
   "source": [
    "len(data.q03)"
   ]
  },
  {
   "cell_type": "code",
   "execution_count": 23,
   "metadata": {},
   "outputs": [
    {
     "data": {
      "text/plain": [
       "Counter({'A.是': 13, 'B.不是': 2, 'C.不确定': 6, nan: 1222})"
      ]
     },
     "execution_count": 23,
     "metadata": {},
     "output_type": "execute_result"
    }
   ],
   "source": [
    "from collections import Counter\n",
    "Counter(data.q03)"
   ]
  },
  {
   "cell_type": "markdown",
   "metadata": {},
   "source": [
    "We screwed up, but thankfully it's not a very important question, we've basically lost all the answers for this question\n",
    "\n",
    "### Q03 is invalidated"
   ]
  },
  {
   "cell_type": "code",
   "execution_count": 24,
   "metadata": {},
   "outputs": [],
   "source": [
    "# removing lines with nan for q1\n",
    "data = data[[not boo for boo in data.isnull().q01]].reset_index(drop = True)"
   ]
  },
  {
   "cell_type": "code",
   "execution_count": 25,
   "metadata": {},
   "outputs": [
    {
     "data": {
      "text/plain": [
       "1240"
      ]
     },
     "execution_count": 25,
     "metadata": {},
     "output_type": "execute_result"
    }
   ],
   "source": [
    "len(data)"
   ]
  },
  {
   "cell_type": "markdown",
   "metadata": {},
   "source": [
    "### Examining time spent"
   ]
  },
  {
   "cell_type": "code",
   "execution_count": 26,
   "metadata": {
    "scrolled": true
   },
   "outputs": [],
   "source": [
    "# converting the 2 cols to datetime format\n",
    "data.begin_time = pd.to_datetime(data.begin_time, format = \"%Y-%m-%d %H:%M:%S\")\n",
    "data.end_time = pd.to_datetime(data.end_time, format = \"%Y-%m-%d %H:%M:%S\")"
   ]
  },
  {
   "cell_type": "code",
   "execution_count": 27,
   "metadata": {},
   "outputs": [],
   "source": [
    "# creating a new column recording the amount of time spent on the survey\n",
    "data['time_spent'] = [(data.end_time[i] - data.begin_time[i]).seconds for i in range(len(data))]"
   ]
  },
  {
   "cell_type": "code",
   "execution_count": 28,
   "metadata": {},
   "outputs": [
    {
     "data": {
      "text/plain": [
       "<matplotlib.axes._subplots.AxesSubplot at 0x1a23b1a4e0>"
      ]
     },
     "execution_count": 28,
     "metadata": {},
     "output_type": "execute_result"
    },
    {
     "data": {
      "image/png": "[encoded data removed]",
      "text/plain": [
       "<matplotlib.figure.Figure at 0x1a23b1aba8>"
      ]
     },
     "metadata": {},
     "output_type": "display_data"
    }
   ],
   "source": [
    "# taking a look at the distribution\n",
    "# boxplot\n",
    "data.boxplot(column = 'time_spent', figsize = (5, 10))"
   ]
  },
  {
   "cell_type": "code",
   "execution_count": 29,
   "metadata": {},
   "outputs": [
    {
     "data": {
      "text/plain": [
       "array([[<matplotlib.axes._subplots.AxesSubplot object at 0x1a23b1a748>]],\n",
       "      dtype=object)"
      ]
     },
     "execution_count": 29,
     "metadata": {},
     "output_type": "execute_result"
    },
    {
     "data": {
      "image/png": "[encoded data removed]",
      "text/plain": [
       "<matplotlib.figure.Figure at 0x1a23c3c940>"
      ]
     },
     "metadata": {},
     "output_type": "display_data"
    }
   ],
   "source": [
    "# histo\n",
    "data.hist(column=\"time_spent\", bins=1000, figsize=(30, 5))"
   ]
  },
  {
   "cell_type": "markdown",
   "metadata": {},
   "source": [
    "Quite prominent double peak, we suspect that the first peak are probably people who didn't fill in truthfully"
   ]
  },
  {
   "cell_type": "code",
   "execution_count": 30,
   "metadata": {},
   "outputs": [],
   "source": [
    "# we do a quick log transformation\n",
    "data['time_spent_log'] = [log(time) for time in data['time_spent']]"
   ]
  },
  {
   "cell_type": "code",
   "execution_count": 31,
   "metadata": {},
   "outputs": [
    {
     "data": {
      "text/plain": [
       "<matplotlib.axes._subplots.AxesSubplot at 0x1a247f5748>"
      ]
     },
     "execution_count": 31,
     "metadata": {},
     "output_type": "execute_result"
    },
    {
     "data": {
      "image/png": "[encoded data removed]",
      "text/plain": [
       "<matplotlib.figure.Figure at 0x1a24838c88>"
      ]
     },
     "metadata": {},
     "output_type": "display_data"
    }
   ],
   "source": [
    "# and let's take a look again: boxplot\n",
    "data.boxplot(column = 'time_spent_log', figsize = (5, 10))"
   ]
  },
  {
   "cell_type": "code",
   "execution_count": 32,
   "metadata": {},
   "outputs": [
    {
     "data": {
      "text/plain": [
       "array([[<matplotlib.axes._subplots.AxesSubplot object at 0x1a2400e908>]],\n",
       "      dtype=object)"
      ]
     },
     "execution_count": 32,
     "metadata": {},
     "output_type": "execute_result"
    },
    {
     "data": {
      "image/png": "[encoded data removed]",
      "text/plain": [
       "<matplotlib.figure.Figure at 0x1a243b7b00>"
      ]
     },
     "metadata": {},
     "output_type": "display_data"
    }
   ],
   "source": [
    "# and let's take a look again: histo\n",
    "data.hist(column=\"time_spent_log\", bins=1000, figsize=(30, 5))"
   ]
  },
  {
   "cell_type": "markdown",
   "metadata": {},
   "source": [
    "Now this becomes a lot clearer, we suspect that the data come from at least 2 distinct gaussians, as can be visually inspected quite clearly"
   ]
  },
  {
   "cell_type": "code",
   "execution_count": 33,
   "metadata": {},
   "outputs": [
    {
     "data": {
      "text/plain": [
       "GaussianMixture(covariance_type='full', init_params='kmeans', max_iter=1000,\n",
       "        means_init=None, n_components=2, n_init=1, precisions_init=None,\n",
       "        random_state=None, reg_covar=1e-06, tol=0.001, verbose=0,\n",
       "        verbose_interval=10, warm_start=False, weights_init=None)"
      ]
     },
     "execution_count": 33,
     "metadata": {},
     "output_type": "execute_result"
    }
   ],
   "source": [
    "# let's run a EM/Gaussian mixture on top to see what gives\n",
    "gmm = GM(n_components = 2, max_iter=1000)\n",
    "X_train = np.array(data.time_spent_log).reshape(len(data), 1)\n",
    "gmm.fit(X_train)"
   ]
  },
  {
   "cell_type": "code",
   "execution_count": 34,
   "metadata": {},
   "outputs": [
    {
     "name": "stdout",
     "output_type": "stream",
     "text": [
      "means: [[5.65235628]\n",
      " [4.44242417]]\n",
      "variances: [[[0.42675759]]\n",
      "\n",
      " [[0.35413975]]]\n"
     ]
    }
   ],
   "source": [
    "# let's take a look at the param vals\n",
    "print('means:', gmm.means_)\n",
    "print('variances:', gmm.covariances_)"
   ]
  },
  {
   "cell_type": "code",
   "execution_count": 35,
   "metadata": {},
   "outputs": [
    {
     "name": "stdout",
     "output_type": "stream",
     "text": [
      "mean and var for main group\n",
      "4.75 minutes\n",
      "0.03 minutes\n",
      "mean and var for that other group\n",
      "1.42 minutes\n",
      "0.02 minutes\n"
     ]
    }
   ],
   "source": [
    "# convert these into minutes\n",
    "from math import exp\n",
    "print('mean and var for main group')\n",
    "print('{:.2f} minutes'.format(exp(5.65235628)/60))\n",
    "print('{:.2f} minutes'.format(exp(0.42675759)/60))\n",
    "print('mean and var for that other group')\n",
    "print('{:.2f} minutes'.format(exp(4.44242417)/60))\n",
    "print('{:.2f} minutes'.format(exp(0.35413975)/60))"
   ]
  },
  {
   "cell_type": "markdown",
   "metadata": {},
   "source": [
    "With conventional wisdom and my earlier estimate, we have evidence to believe that the minor group are faked results and therefore needs to be removed, let's make classification using directly the EM algo predictor"
   ]
  },
  {
   "cell_type": "code",
   "execution_count": 36,
   "metadata": {},
   "outputs": [],
   "source": [
    "# create new col to store the classification label\n",
    "data['g_num'] = gmm.predict(X_train)"
   ]
  },
  {
   "cell_type": "code",
   "execution_count": 37,
   "metadata": {},
   "outputs": [
    {
     "data": {
      "text/plain": [
       "(1.1233731739707835, 6.282558139534884)"
      ]
     },
     "execution_count": 37,
     "metadata": {},
     "output_type": "execute_result"
    }
   ],
   "source": [
    "# quick determination of which is which\n",
    "np.mean(data[data.g_num == 1].time_spent)/60, np.mean(data[data.g_num == 0].time_spent)/60"
   ]
  },
  {
   "cell_type": "markdown",
   "metadata": {},
   "source": [
    "So group 1 is clearly the minor group to filter out, we keep it for now for comparison's sake"
   ]
  },
  {
   "cell_type": "code",
   "execution_count": 41,
   "metadata": {},
   "outputs": [
    {
     "data": {
      "text/plain": [
       "0.20241935483870968"
      ]
     },
     "execution_count": 41,
     "metadata": {},
     "output_type": "execute_result"
    }
   ],
   "source": [
    "sum(data.g_num)/len(data)"
   ]
  },
  {
   "cell_type": "markdown",
   "metadata": {},
   "source": [
    "And we have a significant number of these cases (20%), so we could be impacting the analysis in significant ways"
   ]
  },
  {
   "cell_type": "markdown",
   "metadata": {},
   "source": [
    "### There are a few cols that needs simplifying (removing text and keeping only the answer index)"
   ]
  },
  {
   "cell_type": "code",
   "execution_count": 39,
   "metadata": {
    "scrolled": false
   },
   "outputs": [
    {
     "name": "stdout",
     "output_type": "stream",
     "text": [
      "['1', '12', '13', '16', '17', '20', '22', '23', '25', '26', '27', '28', '29', '3', '4', '5', '6', '7', '8', '9']\n"
     ]
    }
   ],
   "source": [
    "# just a heads up which cols to look at\n",
    "print(sorted(set([str(i+1) for i in range(29)]) - set(cols_to_consolidate)))"
   ]
  },
  {
   "cell_type": "markdown",
   "metadata": {},
   "source": [
    "1. Single choice questions to simplify: 25, 01,23,16,17,20,22,23,25,27,28\n",
    "2. That special question where I asked people’s occupation: 26\n",
    "3. Quantitative questions: 07, 08, 09,12,13,25(age group), 29"
   ]
  },
  {
   "cell_type": "code",
   "execution_count": 43,
   "metadata": {},
   "outputs": [
    {
     "ename": "AttributeError",
     "evalue": "'DataFrame' object has no attribute 'q_number'",
     "output_type": "error",
     "traceback": [
      "\u001b[0;31m---------------------------------------------------------------------------\u001b[0m",
      "\u001b[0;31mAttributeError\u001b[0m                            Traceback (most recent call last)",
      "\u001b[0;32m<ipython-input-43-a8bc5030f76f>\u001b[0m in \u001b[0;36m<module>\u001b[0;34m()\u001b[0m\n\u001b[1;32m      3\u001b[0m     \u001b[0mq_number\u001b[0m \u001b[0;34m=\u001b[0m \u001b[0;34m'{:02}'\u001b[0m\u001b[0;34m.\u001b[0m\u001b[0mformat\u001b[0m\u001b[0;34m(\u001b[0m\u001b[0mquestion\u001b[0m\u001b[0;34m)\u001b[0m\u001b[0;34m\u001b[0m\u001b[0m\n\u001b[1;32m      4\u001b[0m     \u001b[0mcolname\u001b[0m \u001b[0;34m=\u001b[0m \u001b[0;34m'q'\u001b[0m \u001b[0;34m+\u001b[0m \u001b[0mq_number\u001b[0m\u001b[0;34m\u001b[0m\u001b[0m\n\u001b[0;32m----> 5\u001b[0;31m     \u001b[0mdata\u001b[0m\u001b[0;34m.\u001b[0m\u001b[0mcolname\u001b[0m \u001b[0;34m=\u001b[0m \u001b[0msimplify_sgq\u001b[0m\u001b[0;34m(\u001b[0m\u001b[0mdata\u001b[0m\u001b[0;34m,\u001b[0m \u001b[0mq_number\u001b[0m\u001b[0;34m)\u001b[0m\u001b[0;34m\u001b[0m\u001b[0m\n\u001b[0m",
      "\u001b[0;32m~/Documents/PythonWorkingDirectory/AI_public_perception_survey_data_analysis/CN/consolidation.py\u001b[0m in \u001b[0;36msimplify_sgq\u001b[0;34m(dataset, q_number)\u001b[0m\n\u001b[1;32m     57\u001b[0m \u001b[0;34m\u001b[0m\u001b[0m\n\u001b[1;32m     58\u001b[0m         \u001b[0;31m# converting\u001b[0m\u001b[0;34m\u001b[0m\u001b[0;34m\u001b[0m\u001b[0m\n\u001b[0;32m---> 59\u001b[0;31m         \u001b[0manswers\u001b[0m \u001b[0;34m=\u001b[0m \u001b[0;34m[\u001b[0m\u001b[0manswer\u001b[0m\u001b[0;34m.\u001b[0m\u001b[0msplit\u001b[0m\u001b[0;34m(\u001b[0m\u001b[0;34m'.'\u001b[0m\u001b[0;34m)\u001b[0m\u001b[0;34m[\u001b[0m\u001b[0;36m0\u001b[0m\u001b[0;34m]\u001b[0m \u001b[0;32mfor\u001b[0m \u001b[0manswer\u001b[0m \u001b[0;32min\u001b[0m \u001b[0mdataset\u001b[0m\u001b[0;34m.\u001b[0m\u001b[0mq_number\u001b[0m\u001b[0;34m]\u001b[0m\u001b[0;34m\u001b[0m\u001b[0m\n\u001b[0m\u001b[1;32m     60\u001b[0m \u001b[0;34m\u001b[0m\u001b[0m\n\u001b[1;32m     61\u001b[0m         \u001b[0;32mreturn\u001b[0m\u001b[0;34m(\u001b[0m\u001b[0manswers\u001b[0m\u001b[0;34m)\u001b[0m\u001b[0;34m\u001b[0m\u001b[0m\n",
      "\u001b[0;32m~/anaconda3/lib/python3.6/site-packages/pandas/core/generic.py\u001b[0m in \u001b[0;36m__getattr__\u001b[0;34m(self, name)\u001b[0m\n\u001b[1;32m   3612\u001b[0m             \u001b[0;32mif\u001b[0m \u001b[0mname\u001b[0m \u001b[0;32min\u001b[0m \u001b[0mself\u001b[0m\u001b[0;34m.\u001b[0m\u001b[0m_info_axis\u001b[0m\u001b[0;34m:\u001b[0m\u001b[0;34m\u001b[0m\u001b[0m\n\u001b[1;32m   3613\u001b[0m                 \u001b[0;32mreturn\u001b[0m \u001b[0mself\u001b[0m\u001b[0;34m[\u001b[0m\u001b[0mname\u001b[0m\u001b[0;34m]\u001b[0m\u001b[0;34m\u001b[0m\u001b[0m\n\u001b[0;32m-> 3614\u001b[0;31m             \u001b[0;32mreturn\u001b[0m \u001b[0mobject\u001b[0m\u001b[0;34m.\u001b[0m\u001b[0m__getattribute__\u001b[0m\u001b[0;34m(\u001b[0m\u001b[0mself\u001b[0m\u001b[0;34m,\u001b[0m \u001b[0mname\u001b[0m\u001b[0;34m)\u001b[0m\u001b[0;34m\u001b[0m\u001b[0m\n\u001b[0m\u001b[1;32m   3615\u001b[0m \u001b[0;34m\u001b[0m\u001b[0m\n\u001b[1;32m   3616\u001b[0m     \u001b[0;32mdef\u001b[0m \u001b[0m__setattr__\u001b[0m\u001b[0;34m(\u001b[0m\u001b[0mself\u001b[0m\u001b[0;34m,\u001b[0m \u001b[0mname\u001b[0m\u001b[0;34m,\u001b[0m \u001b[0mvalue\u001b[0m\u001b[0;34m)\u001b[0m\u001b[0;34m:\u001b[0m\u001b[0;34m\u001b[0m\u001b[0m\n",
      "\u001b[0;31mAttributeError\u001b[0m: 'DataFrame' object has no attribute 'q_number'"
     ]
    }
   ],
   "source": [
    "# simplifying, we used the custom function simplify_sqg, see consolidation.py\n",
    "for question in [25,1,23,16,17,20,22,23,25,27,28]:\n",
    "    q_number = '{:02}'.format(question)\n",
    "    colname = 'q' + q_number\n",
    "    data.colname = simplify_sgq(data, q_number)"
   ]
  },
  {
   "cell_type": "code",
   "execution_count": null,
   "metadata": {},
   "outputs": [],
   "source": []
  }
 ],
 "metadata": {
  "kernelspec": {
   "display_name": "Python 3",
   "language": "python",
   "name": "python3"
  },
  "language_info": {
   "codemirror_mode": {
    "name": "ipython",
    "version": 3
   },
   "file_extension": ".py",
   "mimetype": "text/x-python",
   "name": "python",
   "nbconvert_exporter": "python",
   "pygments_lexer": "ipython3",
   "version": "3.6.4"
  }
 },
 "nbformat": 4,
 "nbformat_minor": 2
}
