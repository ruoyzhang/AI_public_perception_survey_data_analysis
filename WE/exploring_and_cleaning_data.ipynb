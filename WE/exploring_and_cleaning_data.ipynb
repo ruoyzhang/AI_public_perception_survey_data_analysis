{
 "cells": [
  {
   "cell_type": "code",
   "execution_count": 3,
   "metadata": {},
   "outputs": [],
   "source": [
    "import pandas as pd\n",
    "import os"
   ]
  },
  {
   "cell_type": "code",
   "execution_count": 2,
   "metadata": {},
   "outputs": [],
   "source": [
    "data_dir = '../../AI_perception_survey_data/WE'"
   ]
  },
  {
   "cell_type": "markdown",
   "metadata": {},
   "source": [
    "### Taking a preliminary look"
   ]
  },
  {
   "cell_type": "code",
   "execution_count": 4,
   "metadata": {},
   "outputs": [],
   "source": [
    "# getting all the files\n",
    "all_files = os.listdir(data_dir)"
   ]
  },
  {
   "cell_type": "code",
   "execution_count": 6,
   "metadata": {},
   "outputs": [
    {
     "data": {
      "text/plain": [
       "['Public Perception of Artificial Intelligence Technologies [UK].csv',\n",
       " 'Public Perception of Artificial Intelligence Technologies [Deutsche].csv',\n",
       " 'Pollfish_Survey_%C3%96ffentliche_Wahrnehmung_der_k%C3%BCnstlichen_Intelligenz_%5BDeutsche%5D_1979903.xlsx',\n",
       " 'Public Perception of Artificial Intelligence Technologies [intl_Ver].csv',\n",
       " \"Perception Publique des technologies de l'Intelligence Artificielle [FR].csv\",\n",
       " 'Pollfish_Survey_Perception_Publique_des_technologies_de_l%27Intelligence_Artificielle_%5BFR%5D_1979900.xlsx']"
      ]
     },
     "execution_count": 6,
     "metadata": {},
     "output_type": "execute_result"
    }
   ],
   "source": [
    "# all the files in the directory\n",
    "all_files"
   ]
  },
  {
   "cell_type": "markdown",
   "metadata": {},
   "source": [
    "## All the Google Form .csv files"
   ]
  },
  {
   "cell_type": "markdown",
   "metadata": {},
   "source": [
    "Let's check uniformity in column names"
   ]
  },
  {
   "cell_type": "code",
   "execution_count": 149,
   "metadata": {},
   "outputs": [],
   "source": [
    "# loading in all the google forms data\n",
    "gm_uk = pd.read_csv(os.path.join(data_dir, all_files[0]))\n",
    "gm_de = pd.read_csv(os.path.join(data_dir, all_files[1]))\n",
    "gm_fr = pd.read_csv(os.path.join(data_dir, all_files[4]))\n",
    "gm_intl = pd.read_csv(os.path.join(data_dir, all_files[3]))\n",
    "\n",
    "# storing as a list of items\n",
    "all_gm = [gm_uk, gm_de, gm_fr, gm_intl]"
   ]
  },
  {
   "cell_type": "code",
   "execution_count": 80,
   "metadata": {},
   "outputs": [
    {
     "data": {
      "text/plain": [
       "(32, 32, 31, 32)"
      ]
     },
     "execution_count": 80,
     "metadata": {},
     "output_type": "execute_result"
    }
   ],
   "source": [
    "len(gm_uk.columns), len(gm_de.columns), len(gm_fr.columns), len(gm_intl.columns)"
   ]
  },
  {
   "cell_type": "markdown",
   "metadata": {},
   "source": [
    "The col fr is missing is a redundant question to the survey - AMT id aquisition"
   ]
  },
  {
   "cell_type": "code",
   "execution_count": 19,
   "metadata": {
    "collapsed": true
   },
   "outputs": [
    {
     "name": "stdout",
     "output_type": "stream",
     "text": [
      "****************** 0 ******************\n",
      "Timestamp\n",
      "Timestamp\n",
      "Timestamp\n",
      "Timestamp\n",
      "--------------------------------------------\n",
      " \n",
      "****************** 1 ******************\n",
      "How would you rate your personal knowledge of artificial intelligence technologies?\n",
      "Wie beurteilen Sie Ihr persönliches Wissen über künstliche Intelligenz?\n",
      "Comment évalueriez-vous votre connaissance personnelle des technologies d'intelligence artificielle ?\n",
      "How would you rate your personal knowledge of artificial intelligence technologies?\n",
      "--------------------------------------------\n",
      " \n",
      "****************** 2 ******************\n",
      "Which of the following statements are *false* regarding the nature or capabilities of artificial intelligence?\n",
      "Welche der folgenden Aussagen sind * falsch * in Bezug auf die Eigenschaften oder die Möglichkeiten der künstlichen Intelligenz?\n",
      "Parmi les affirmations suivantes, lesquelles sont * fausses * concernant la nature ou les capacités de l'intelligence artificielle ?\n",
      "Which of the following statements are *false* regarding the nature or capabilities of artificial intelligence?\n",
      "--------------------------------------------\n",
      " \n",
      "****************** 3 ******************\n",
      "Have you been served by or used artificial intelligence technologies?\n",
      "Wurden Sie von der künstlichen Intelligenz bedient oder haben Sie sie verwendet?\n",
      "Avez-vous été servi par ou utilisé des technologies d'intelligence artificielle ?\n",
      "Have you been served by or used artificial intelligence technologies?\n",
      "--------------------------------------------\n",
      " \n",
      "****************** 4 ******************\n",
      "From a scale of 1 - 7, how would you rate the impact of artificial intelligence technologies on SOCIETY [NOW]?\n",
      "Wie beurteilen Sie auf einer Skala von 1 bis 7 die Auswirkungen künstlicher Intelligenz auf die GESELLSCHAFT [heute]?\n",
      "Sur une échelle de 1 à 7, comment évalueriez-vous l’impact des technologies de l’intelligence artificielle sur la SOCIÉTÉ [AUJOURD'HUI] ?\n",
      "From a scale of 1 - 7, how would you rate the impact of artificial intelligence technologies on SOCIETY [NOW]?\n",
      "--------------------------------------------\n",
      " \n",
      "****************** 5 ******************\n",
      "And in the next 10 years?\n",
      "Und in den nächsten 10 Jahren?\n",
      "Et dans les 10 prochaines années?\n",
      "And in the next 10 years?\n",
      "--------------------------------------------\n",
      " \n",
      "****************** 6 ******************\n",
      "From a scale of 1 - 7, how would you rate the MAGNITUDE of AI's impact [NOW]?\n",
      "Wie beurteilen Sie auf einer Skala von 1 bis 7 das Ausmaß der Auswirkungen der KI [heute]?\n",
      "Sur une échelle de 1 à 7, comment évalueriez-vous L'AMPLITUDE de l'impact de l'IA [AUJOURD'HUI]?\n",
      "From a scale of 1 - 7, how would you rate the MAGNITUDE of AI's impact [NOW]?\n",
      "--------------------------------------------\n",
      " \n",
      "****************** 7 ******************\n",
      "And in 10 years?\n",
      "Und in den nächsten 10 Jahren?.1\n",
      "Et dans les 10 prochaines années?.1\n",
      "And in 10 years?\n",
      "--------------------------------------------\n",
      " \n",
      "****************** 8 ******************\n",
      "From a scale of 1 to 7, how would you rate the CURRENT impact of artificial intelligence on employment and workplace for you?\n",
      "Wie würden Sie die AKTUELLEN Auswirkungen der künstlichen Intelligenz auf Beschäftigung und Arbeitsplatz auf einer Skala von 1 bis 7 für Sie einschätzen?\n",
      "Sur une échelle de 1 à 7, comment évalueriez-vous l'impact actuel de l'intelligence artificielle sur le travail (le poste et le lieu de travail) pour vous?\n",
      "From a scale of 1 to 7, how would you rate the CURRENT impact of artificial intelligence on employment and workplace for you?\n",
      "--------------------------------------------\n",
      " \n",
      "****************** 9 ******************\n",
      "And in the next 10 years?.1\n",
      "Und in den nächsten 10 Jahren?.2\n",
      "Et dans les 10 prochaines années?.2\n",
      "And in the next 10 years?.1\n",
      "--------------------------------------------\n",
      " \n",
      "****************** 10 ******************\n",
      "Which of following area(s) do you think your professional life will benefit the most from Artificial Intelligence technologies? Please specify if other\n",
      "Welcher der folgenden Bereiche wird Ihrer Meinung nach in Ihrem Berufsleben am meisten von den Technologien der künstlichen Intelligenz profitieren? Bitte geben Sie an, wenn andere zutreffen.\n",
      "Selon vous, dans votre vie professionnelle, quels bénéfices technologiques seront permis par l'intelligence artificielle ? Merci de spécifier si d'autres\n",
      "Which of following area(s) do you think your professional life will benefit the most from Artificial Intelligence technologies? Please specify if other\n",
      "--------------------------------------------\n",
      " \n",
      "****************** 11 ******************\n",
      "Which of the following area(s) do you think your professional life will suffer the most from Artificial Intelligence technologies? Please specify if other\n",
      "Welcher der folgenden Aspekte wird Ihrer Meinung nach in Ihrem Berufsleben am meisten unter den Technologien der künstlichen Intelligenz leiden? Bitte geben Sie an, wenn andere zutreffen.\n",
      "Selon vous, dans votre vie professionnelle, quels aspects souffriront le plus des technologies de l'intelligence artificielle? Merci de spécifier si d'autres\n",
      "Which of the following area(s) do you think your professional life will suffer the most from Artificial Intelligence technologies? Please specify if other\n",
      "--------------------------------------------\n",
      " \n",
      "****************** 12 ******************\n",
      "From a scale of 1 to 7, how would you rate the CURRENT impact of artificial intelligence on your personal life?\n",
      "Wie beurteilen Sie auf einer Skala von 1 bis 7 die AKTUELLEN Auswirkungen künstlicher Intelligenz auf ihr persönliches Leben?\n",
      "Sur une échelle de 1 à 7, comment évalueriez-vous l’impact actuel de l’intelligence artificielle sur votre vie personnelle?\n",
      "From a scale of 1 to 7, how would you rate the CURRENT impact of artificial intelligence on your personal life?\n",
      "--------------------------------------------\n",
      " \n",
      "****************** 13 ******************\n",
      "And in the next 10 years?.2\n",
      "Und in den nächsten 10 Jahren?.3\n",
      "Et dans les 10 prochaines années\n",
      "And in the next 10 years?.2\n",
      "--------------------------------------------\n",
      " \n",
      "****************** 14 ******************\n",
      "Which of following areas do you think your personal life will benefit the most from Artificial Intelligence technologies? Please specify if other\n",
      "Welcher der folgenden Aspekte Ihres persönlichen Lebens wird Ihrer Meinung nach am meisten von den Technologien der künstlichen Intelligenz profitieren? Bitte geben Sie an, wenn andere zutreffen.\n",
      "Parmi les suivants, quels aspects de votre vie personnelle bénéficieront le plus de l'IA ? Merci de spécifier si d'autres\n",
      "Which of following areas do you think your personal life will benefit the most from Artificial Intelligence technologies? Please specify if other\n",
      "--------------------------------------------\n",
      " \n",
      "****************** 15 ******************\n",
      "Which of following areas do you think your personal life will suffer the most from Artificial Intelligence technologies? Please specify if other\n",
      "Welcher der folgenden Bereiche wird Ihrer Meinung nach am meisten unter den Technologien der künstlichen Intelligenz leiden? Bitte geben Sie an, ob andere\n",
      "Parmi les suivants, quels aspects de votre vie personnelle souffriront le plus de l'IA ? Merci de spécifier si d'autres\n",
      "Which of following areas do you think your personal life will suffer the most from Artificial Intelligence technologies? Please specify if other\n",
      "--------------------------------------------\n",
      " \n",
      "****************** 16 ******************\n",
      "Which of the following statement do you agree with the most?\n",
      "Mit welcher der folgenden Aussagen stimmen Sie am meisten überein?\n",
      "Avec lequel des énoncés suivants êtes-vous le plus d'accord?\n",
      "Which of the following statement do you agree with the most?\n",
      "--------------------------------------------\n",
      " \n",
      "****************** 17 ******************\n",
      "Do you believe you are at risk of being replaced by Artificial Intelligence?\n",
      "Glauben Sie, Sie laufen Gefahr, durch künstliche Intelligenz ersetzt zu werden?\n",
      "Pensez-vous que vous risquez d'être remplacé par une intelligence artificielle?\n",
      "Do you believe you are at risk of being replaced by Artificial Intelligence?\n",
      "--------------------------------------------\n",
      " \n",
      "****************** 18 ******************\n",
      "Please select 3 jobs from the list below that you think are at risk of being replaced by Artificial Intelligence applications in the next 10 years\n",
      "Wählen Sie aus der folgenden Liste 3 Stellen aus, die Ihrer Meinung nach in den nächsten 10 Jahren möglicherweise durch Anwendungen für künstliche Intelligenz ersetzt werden\n",
      "Veuillez sélectionner 3 emplois dans la liste ci-dessous qui, selon vous, risquent d'être remplacés par des applications d'Intelligence Artificielle dans les 10 prochaines années\n",
      "Please select 3 jobs from the list below that you think are at risk of being replaced by Artificial Intelligence applications in the next 10 years\n",
      "--------------------------------------------\n",
      " \n",
      "****************** 19 ******************\n",
      "Which of the following reasons do you think put a job at risk of being replaced by Artificial Intelligence? If other, please specify\n",
      "Welchen der folgenden Gründe sehen Sie für eine Stelle, bei der die Gefahr besteht, dass sie durch künstliche Intelligenz ersetzt wird? Andernfalls bitte angeben\n",
      "Parmi les aspects suivants, quelles caractéristiques rendent un emploi remplaçable par l'IA? Si d'autres, veuillez préciser\n",
      "Which of the following reasons do you think put a job at risk of being replaced by Artificial Intelligence? If other, please specify\n",
      "--------------------------------------------\n",
      " \n",
      "****************** 20 ******************\n",
      "Do you trust artificial intelligence applications?\n",
      "Vertrauen Sie Anwendungen mit künstlicher Intelligenz?\n",
      "Faites-vous confiance aux applications d'intelligence artificielle?\n",
      "Do you trust artificial intelligence applications?\n",
      "--------------------------------------------\n",
      " \n",
      "****************** 21 ******************\n",
      "If your answer to the previous question is 'No' or 'Maybe', which of the following factor(s) correspond the best to your reasons of distrust? if other, please specify\n",
      "Wenn Ihre Antwort auf die vorherige Frage \"Nein\" oder \"Vielleicht\" lautet, welcher der folgenden Faktoren entspricht Ihren Misstrauensgründen am besten? wenn andere, bitte spezifizieren\n",
      "Si votre réponse à la question précédente est \"Non\" ou \"Peut-être\", lesquels des facteurs suivants correspond le mieux à vos raisons de méfiance? si d'autres, veuillez spécifier\n",
      "If your answer to the previous question is 'No' or 'Maybe', which of the following factor(s) correspond the best to your reasons of distrust? if other, please specify\n",
      "--------------------------------------------\n",
      " \n",
      "****************** 22 ******************\n",
      "To what extent do you believe the misuse of artificial intelligence technologies will occur and impact our societies in the next 10 years?\n",
      "Inwieweit wird sich Ihrer Meinung nach der Missbrauch künstlicher Intelligenz in den nächsten 10 Jahren auf unsere Gesellschaften auswirken?\n",
      "Dans quelle mesure croyez-vous que les technologies de l'intelligence artificielle seront utilisées à mauvais escient et auront un impact sur nos sociétés au cours des 10 prochaines années?\n",
      "To what extent do you believe the misuse of artificial intelligence technologies will occur and impact our societies in the next 10 years?\n",
      "--------------------------------------------\n",
      " \n",
      "****************** 23 ******************\n",
      "Do you think the current regulations are sufficient for protecting public interest?\n",
      "Denken Sie, dass die aktuellen Vorschriften ausreichen, um das öffentliche Interesse zu schützen?\n",
      "Pensez-vous que la réglementation actuelle est suffisante pour protéger l'intérêt public?\n",
      "Do you think the current regulations are sufficient for protecting public interest?\n",
      "--------------------------------------------\n",
      " \n",
      "****************** 24 ******************\n",
      "If not, which area(s) should be our priorities when it comes to regulation? if other, please specify\n",
      "Wenn nicht, welche Bereiche sollten unsere Prioritäten bei der Regulierung sein? wenn andere, bitte spezifizieren\n",
      "Sinon, quels domaines devraient être nos priorités en matière de réglementation? si d'autres, veuillez spécifier\n",
      "If not, which area(s) should be our priorities when it comes to regulation? if other, please specify\n",
      "--------------------------------------------\n",
      " \n",
      "****************** 25 ******************\n",
      "Could you tell us your age?\n",
      "Können Sie uns Ihr Alter mitteilen?\n",
      "Quel age avez vous?\n",
      "Could you tell us your age?\n",
      "--------------------------------------------\n",
      " \n",
      "****************** 26 ******************\n",
      "Please tell us your country of residence\n",
      "Können Sie uns bitte Ihr Wohnsitzland mitteilen?\n",
      "Quel est votre pays de residence?\n",
      "Please tell us your country of residence\n",
      "--------------------------------------------\n",
      " \n",
      "****************** 27 ******************\n",
      "What is your profession/area of expertise (i.e. art history student, pathologist, Metallurgical engineer, mechanic, etc)?\n",
      "Was ist Ihr Beruf / Fachgebiet (z. B. Mathematikstudent, Arzt, Bauingenieur, Mechaniker usw.)?\n",
      "Quelle est votre profession / domaine d’expertise (étudiant en histoire d'art,  pathologue, ingénieur métallurgique, mécanicienne, etc.)?\n",
      "What is your profession/area of expertise (i.e. maths student, medical doctor, civil engineer, mechanic, etc)?\n",
      "--------------------------------------------\n",
      " \n",
      "****************** 28 ******************\n",
      "What is your highest education qualification?\n",
      "Was ist Ihr höchster Bildungsabschluss?\n",
      "Quelle est votre plus haute qualification en éducation?\n",
      "What is your highest education qualification?\n",
      "--------------------------------------------\n",
      " \n",
      "****************** 29 ******************\n",
      "Do you own a smart phone?\n",
      "Besitzen Sie ein Smartphone?\n",
      "Possédez-vous un smart phone?\n",
      "Do you own a smart phone?\n",
      "--------------------------------------------\n",
      " \n",
      "****************** 30 ******************\n",
      "From a scale of 1 to 7, how will life be in 10 years?\n",
      "Wie wird das Leben in 10 Jahren von einer Skala von 1 bis 7 aussehen?\n",
      "Sur une échelle de 1 à 7, comment sera la vie dans 10 ans?\n",
      "From a scale of 1 to 7, how will life be in 10 years?\n",
      "--------------------------------------------\n",
      " \n"
     ]
    }
   ],
   "source": [
    "for i in range(31):\n",
    "    print('******************', i, '******************')\n",
    "    print(gm_uk.columns[i])\n",
    "    print(gm_de.columns[i])\n",
    "    print(gm_fr.columns[i])\n",
    "    print(gm_intl.columns[i])\n",
    "    print(\"--------------------------------------------\")\n",
    "    print(' ')"
   ]
  },
  {
   "cell_type": "markdown",
   "metadata": {},
   "source": [
    "We just inspected by hand, the column orders are consistent"
   ]
  },
  {
   "cell_type": "code",
   "execution_count": 150,
   "metadata": {},
   "outputs": [],
   "source": [
    "# remove unwanted cols\n",
    "gm_uk.drop([gm_uk.columns[0],gm_uk.columns[-1]], axis = 1, inplace = True)\n",
    "gm_de.drop([gm_de.columns[0],gm_de.columns[-1]], axis = 1, inplace = True)\n",
    "gm_fr.drop([gm_fr.columns[0]], axis = 1, inplace = True)\n",
    "gm_intl.drop([gm_intl.columns[0],gm_intl.columns[-1]], axis = 1, inplace = True)"
   ]
  },
  {
   "cell_type": "code",
   "execution_count": 151,
   "metadata": {},
   "outputs": [],
   "source": [
    "# we replace the column names in the same fashion as we did with the CN dataset\n",
    "col_names = ['q{:02}'.format(i+1) for i in range(25)] + ['country_of_residence'] + ['q{:02}'.format(i) for i in range(26,30)]\n",
    "# reorder them\n",
    "col_orders = ['q{:02}'.format(i+1) for i in range(len(gm_uk.columns) - 1)] + ['country_of_residence']"
   ]
  },
  {
   "cell_type": "code",
   "execution_count": 152,
   "metadata": {},
   "outputs": [],
   "source": [
    "# replacing them col names\n",
    "for file in all_gm:\n",
    "    file.columns = col_names"
   ]
  },
  {
   "cell_type": "code",
   "execution_count": 153,
   "metadata": {},
   "outputs": [],
   "source": [
    "# changing col orders\n",
    "gm_uk = gm_uk[col_orders]\n",
    "gm_de = gm_de[col_orders]\n",
    "gm_fr = gm_fr[col_orders]\n",
    "gm_intl = gm_intl[col_orders]"
   ]
  },
  {
   "cell_type": "markdown",
   "metadata": {},
   "source": [
    "### Checking nan"
   ]
  },
  {
   "cell_type": "markdown",
   "metadata": {},
   "source": [
    "UK"
   ]
  },
  {
   "cell_type": "code",
   "execution_count": 143,
   "metadata": {
    "collapsed": true
   },
   "outputs": [
    {
     "data": {
      "text/plain": [
       "q01                      0\n",
       "q02                      0\n",
       "q03                      0\n",
       "q04                      0\n",
       "q05                      0\n",
       "q06                      0\n",
       "q07                      0\n",
       "q08                      0\n",
       "q09                      0\n",
       "q10                      0\n",
       "q11                      0\n",
       "q12                      0\n",
       "q13                      0\n",
       "q14                      0\n",
       "q15                      1\n",
       "q16                      0\n",
       "q17                      0\n",
       "q18                      0\n",
       "q19                      0\n",
       "q20                      0\n",
       "q21                     19\n",
       "q22                      0\n",
       "q23                      0\n",
       "q24                      0\n",
       "q25                      0\n",
       "q26                      0\n",
       "q27                      0\n",
       "q28                      0\n",
       "q29                      0\n",
       "country_of_residence    43\n",
       "dtype: int64"
      ]
     },
     "execution_count": 143,
     "metadata": {},
     "output_type": "execute_result"
    }
   ],
   "source": [
    "gm_uk.isnull().sum()"
   ]
  },
  {
   "cell_type": "markdown",
   "metadata": {},
   "source": [
    "Fr"
   ]
  },
  {
   "cell_type": "code",
   "execution_count": 145,
   "metadata": {
    "collapsed": true
   },
   "outputs": [
    {
     "data": {
      "text/plain": [
       "q01                      0\n",
       "q02                      0\n",
       "q03                      0\n",
       "q04                      0\n",
       "q05                      0\n",
       "q06                      0\n",
       "q07                      0\n",
       "q08                      0\n",
       "q09                      0\n",
       "q10                      0\n",
       "q11                      0\n",
       "q12                      0\n",
       "q13                      0\n",
       "q14                      0\n",
       "q15                      0\n",
       "q16                      0\n",
       "q17                      0\n",
       "q18                      0\n",
       "q19                      0\n",
       "q20                      0\n",
       "q21                     19\n",
       "q22                      0\n",
       "q23                      0\n",
       "q24                      0\n",
       "q25                      0\n",
       "q26                      0\n",
       "q27                      0\n",
       "q28                      0\n",
       "q29                      0\n",
       "country_of_residence     0\n",
       "dtype: int64"
      ]
     },
     "execution_count": 145,
     "metadata": {},
     "output_type": "execute_result"
    }
   ],
   "source": [
    "gm_fr.isnull().sum()"
   ]
  },
  {
   "cell_type": "markdown",
   "metadata": {},
   "source": [
    "De"
   ]
  },
  {
   "cell_type": "code",
   "execution_count": 146,
   "metadata": {
    "collapsed": true
   },
   "outputs": [
    {
     "data": {
      "text/plain": [
       "q01                     0\n",
       "q02                     0\n",
       "q03                     0\n",
       "q04                     0\n",
       "q05                     0\n",
       "q06                     0\n",
       "q07                     0\n",
       "q08                     0\n",
       "q09                     0\n",
       "q10                     0\n",
       "q11                     0\n",
       "q12                     0\n",
       "q13                     0\n",
       "q14                     0\n",
       "q15                     0\n",
       "q16                     0\n",
       "q17                     0\n",
       "q18                     0\n",
       "q19                     0\n",
       "q20                     0\n",
       "q21                     1\n",
       "q22                     0\n",
       "q23                     0\n",
       "q24                     0\n",
       "q25                     0\n",
       "q26                     0\n",
       "q27                     0\n",
       "q28                     0\n",
       "q29                     0\n",
       "country_of_residence    0\n",
       "dtype: int64"
      ]
     },
     "execution_count": 146,
     "metadata": {},
     "output_type": "execute_result"
    }
   ],
   "source": [
    "gm_de.isnull().sum()"
   ]
  },
  {
   "cell_type": "markdown",
   "metadata": {},
   "source": [
    "Intl"
   ]
  },
  {
   "cell_type": "code",
   "execution_count": 148,
   "metadata": {
    "collapsed": true
   },
   "outputs": [
    {
     "data": {
      "text/plain": [
       "q01                     0\n",
       "q02                     0\n",
       "q03                     0\n",
       "q04                     0\n",
       "q05                     0\n",
       "q06                     0\n",
       "q07                     0\n",
       "q08                     0\n",
       "q09                     0\n",
       "q10                     0\n",
       "q11                     0\n",
       "q12                     0\n",
       "q13                     0\n",
       "q14                     0\n",
       "q15                     0\n",
       "q16                     0\n",
       "q17                     0\n",
       "q18                     0\n",
       "q19                     0\n",
       "q20                     0\n",
       "q21                     4\n",
       "q22                     0\n",
       "q23                     0\n",
       "q24                     0\n",
       "q25                     0\n",
       "q26                     0\n",
       "q27                     0\n",
       "q28                     0\n",
       "q29                     0\n",
       "country_of_residence    0\n",
       "dtype: int64"
      ]
     },
     "execution_count": 148,
     "metadata": {},
     "output_type": "execute_result"
    }
   ],
   "source": [
    "gm_intl.isnull().sum()"
   ]
  },
  {
   "cell_type": "markdown",
   "metadata": {},
   "source": [
    "There are a few of NaNs to deal with, but nothing to violent, we'll leave them till we analyse the data"
   ]
  },
  {
   "cell_type": "markdown",
   "metadata": {},
   "source": [
    "### Extracting answers, creating corresponding dict"
   ]
  },
  {
   "cell_type": "code",
   "execution_count": 99,
   "metadata": {},
   "outputs": [],
   "source": [
    "# noting question numbers that need recoding\n",
    "\n",
    "# multiple choice\n",
    "q_num_mc = [2,10,11,12,14,15,18,19,21,24]\n",
    "q_num_mc = ['q{:02}'.format(num) for num in q_num_mc]\n",
    "# single choice\n",
    "q_num_sc = [1,3,16,17,20,22,23,25,27,28]\n",
    "q_num_sc = ['q{:02}'.format(num) for num in q_num_sc]\n",
    "# all\n",
    "q_num_all = q_num_mc + q_num_sc"
   ]
  },
  {
   "cell_type": "code",
   "execution_count": 101,
   "metadata": {},
   "outputs": [],
   "source": [
    "# restoring as a list of items\n",
    "all_gm = [gm_uk, gm_de, gm_fr, gm_intl]"
   ]
  },
  {
   "cell_type": "code",
   "execution_count": 123,
   "metadata": {},
   "outputs": [
    {
     "name": "stdout",
     "output_type": "stream",
     "text": [
      "q02\n"
     ]
    },
    {
     "ename": "AttributeError",
     "evalue": "'list' object has no attribute 'split'",
     "output_type": "error",
     "traceback": [
      "\u001b[0;31m---------------------------------------------------------------------------\u001b[0m",
      "\u001b[0;31mAttributeError\u001b[0m                            Traceback (most recent call last)",
      "\u001b[0;32m<ipython-input-123-24265b76dda5>\u001b[0m in \u001b[0;36m<module>\u001b[0;34m()\u001b[0m\n\u001b[1;32m      3\u001b[0m     \u001b[0;32mfor\u001b[0m \u001b[0mq_mc\u001b[0m \u001b[0;32min\u001b[0m \u001b[0mq_num_mc\u001b[0m\u001b[0;34m:\u001b[0m\u001b[0;34m\u001b[0m\u001b[0m\n\u001b[1;32m      4\u001b[0m         \u001b[0mprint\u001b[0m\u001b[0;34m(\u001b[0m\u001b[0mq_mc\u001b[0m\u001b[0;34m)\u001b[0m\u001b[0;34m\u001b[0m\u001b[0m\n\u001b[0;32m----> 5\u001b[0;31m         \u001b[0mfile\u001b[0m\u001b[0;34m[\u001b[0m\u001b[0mq_mc\u001b[0m\u001b[0;34m]\u001b[0m \u001b[0;34m=\u001b[0m \u001b[0;34m[\u001b[0m\u001b[0mans\u001b[0m\u001b[0;34m.\u001b[0m\u001b[0msplit\u001b[0m\u001b[0;34m(\u001b[0m\u001b[0;34m';'\u001b[0m\u001b[0;34m)\u001b[0m \u001b[0;32mfor\u001b[0m \u001b[0mans\u001b[0m \u001b[0;32min\u001b[0m \u001b[0mfile\u001b[0m\u001b[0;34m[\u001b[0m\u001b[0mq_mc\u001b[0m\u001b[0;34m]\u001b[0m\u001b[0;34m]\u001b[0m\u001b[0;34m\u001b[0m\u001b[0m\n\u001b[0m",
      "\u001b[0;32m<ipython-input-123-24265b76dda5>\u001b[0m in \u001b[0;36m<listcomp>\u001b[0;34m(.0)\u001b[0m\n\u001b[1;32m      3\u001b[0m     \u001b[0;32mfor\u001b[0m \u001b[0mq_mc\u001b[0m \u001b[0;32min\u001b[0m \u001b[0mq_num_mc\u001b[0m\u001b[0;34m:\u001b[0m\u001b[0;34m\u001b[0m\u001b[0m\n\u001b[1;32m      4\u001b[0m         \u001b[0mprint\u001b[0m\u001b[0;34m(\u001b[0m\u001b[0mq_mc\u001b[0m\u001b[0;34m)\u001b[0m\u001b[0;34m\u001b[0m\u001b[0m\n\u001b[0;32m----> 5\u001b[0;31m         \u001b[0mfile\u001b[0m\u001b[0;34m[\u001b[0m\u001b[0mq_mc\u001b[0m\u001b[0;34m]\u001b[0m \u001b[0;34m=\u001b[0m \u001b[0;34m[\u001b[0m\u001b[0mans\u001b[0m\u001b[0;34m.\u001b[0m\u001b[0msplit\u001b[0m\u001b[0;34m(\u001b[0m\u001b[0;34m';'\u001b[0m\u001b[0;34m)\u001b[0m \u001b[0;32mfor\u001b[0m \u001b[0mans\u001b[0m \u001b[0;32min\u001b[0m \u001b[0mfile\u001b[0m\u001b[0;34m[\u001b[0m\u001b[0mq_mc\u001b[0m\u001b[0;34m]\u001b[0m\u001b[0;34m]\u001b[0m\u001b[0;34m\u001b[0m\u001b[0m\n\u001b[0m",
      "\u001b[0;31mAttributeError\u001b[0m: 'list' object has no attribute 'split'"
     ]
    }
   ],
   "source": [
    "# converting all to lists\n",
    "for file in all_gm:\n",
    "    for q_mc in q_num_mc:\n",
    "        print(q_mc)\n",
    "        file[q_mc] = [ans.split(';') for ans in file[q_mc]]"
   ]
  },
  {
   "cell_type": "code",
   "execution_count": 156,
   "metadata": {},
   "outputs": [
    {
     "name": "stdout",
     "output_type": "stream",
     "text": [
      "100% hi's\n"
     ]
    }
   ],
   "source": [
    "print('100% hi\\'s')"
   ]
  },
  {
   "cell_type": "code",
   "execution_count": null,
   "metadata": {},
   "outputs": [],
   "source": []
  }
 ],
 "metadata": {
  "kernelspec": {
   "display_name": "Python 3",
   "language": "python",
   "name": "python3"
  },
  "language_info": {
   "codemirror_mode": {
    "name": "ipython",
    "version": 3
   },
   "file_extension": ".py",
   "mimetype": "text/x-python",
   "name": "python",
   "nbconvert_exporter": "python",
   "pygments_lexer": "ipython3",
   "version": "3.6.4"
  }
 },
 "nbformat": 4,
 "nbformat_minor": 2
}
