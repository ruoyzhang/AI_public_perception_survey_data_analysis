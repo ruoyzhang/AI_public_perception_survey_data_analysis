{
 "cells": [
  {
   "cell_type": "code",
   "execution_count": 1,
   "metadata": {},
   "outputs": [],
   "source": [
    "import pandas as pd\n",
    "import os\n",
    "import pickle\n",
    "from collections import Counter\n",
    "import time"
   ]
  },
  {
   "cell_type": "markdown",
   "metadata": {},
   "source": [
    "### Loading in data"
   ]
  },
  {
   "cell_type": "code",
   "execution_count": 2,
   "metadata": {},
   "outputs": [],
   "source": [
    "# setting up the data directory\n",
    "data_dir = '../../AI_perception_survey_data/WE/cleaned'"
   ]
  },
  {
   "cell_type": "code",
   "execution_count": 3,
   "metadata": {},
   "outputs": [],
   "source": [
    "# listing data files\n",
    "all_files = os.listdir(data_dir)"
   ]
  },
  {
   "cell_type": "code",
   "execution_count": 4,
   "metadata": {},
   "outputs": [
    {
     "data": {
      "text/plain": [
       "['gm_all.pickle', 'pf_all.pickle']"
      ]
     },
     "execution_count": 4,
     "metadata": {},
     "output_type": "execute_result"
    }
   ],
   "source": [
    "# extracting the .pickle files\n",
    "all_files = [file for file in all_files if file.split('.')[1] == 'pickle']\n",
    "all_files"
   ]
  },
  {
   "cell_type": "code",
   "execution_count": 5,
   "metadata": {},
   "outputs": [],
   "source": [
    "# loading in the dataframes\n",
    "with open(os.path.join(data_dir, all_files[0]), 'rb') as handle:\n",
    "    gm_all = pickle.load(handle)\n",
    "with open(os.path.join(data_dir, all_files[1]), 'rb') as handle:\n",
    "    pf_all = pickle.load(handle)"
   ]
  },
  {
   "cell_type": "code",
   "execution_count": 66,
   "metadata": {},
   "outputs": [],
   "source": [
    "# concatenating\n",
    "we = pd.concat([gm_all, pf_all])"
   ]
  },
  {
   "cell_type": "markdown",
   "metadata": {},
   "source": [
    "### Standardisation of Country of Residence"
   ]
  },
  {
   "cell_type": "markdown",
   "metadata": {},
   "source": [
    "We went ahead and created a conversion dict, see country_conversion.py"
   ]
  },
  {
   "cell_type": "code",
   "execution_count": 67,
   "metadata": {},
   "outputs": [],
   "source": [
    "from country_conversion import country_conversion_dict"
   ]
  },
  {
   "cell_type": "code",
   "execution_count": 68,
   "metadata": {},
   "outputs": [],
   "source": [
    "# recode\n",
    "we.country_of_residence = [country_conversion_dict[country] for country in we.country_of_residence]"
   ]
  },
  {
   "cell_type": "code",
   "execution_count": 69,
   "metadata": {},
   "outputs": [
    {
     "data": {
      "text/plain": [
       "Counter({'BE': 12,\n",
       "         'CH': 4,\n",
       "         'DE': 77,\n",
       "         'ES': 2,\n",
       "         'FR': 125,\n",
       "         'IE': 1,\n",
       "         'LU': 1,\n",
       "         'NL': 8,\n",
       "         'PT': 1,\n",
       "         'UK': 89,\n",
       "         'non_WE': 8})"
      ]
     },
     "execution_count": 69,
     "metadata": {},
     "output_type": "execute_result"
    }
   ],
   "source": [
    "Counter(we.country_of_residence)"
   ]
  },
  {
   "cell_type": "markdown",
   "metadata": {},
   "source": [
    "OK so we've cleaned this up nicely, now let's go on and remove the non_WE entries"
   ]
  },
  {
   "cell_type": "code",
   "execution_count": 70,
   "metadata": {},
   "outputs": [],
   "source": [
    "we = we[[country != 'non_WE' for country in we.country_of_residence]].reset_index(drop = True)"
   ]
  },
  {
   "cell_type": "code",
   "execution_count": 71,
   "metadata": {},
   "outputs": [
    {
     "data": {
      "text/html": [
       "<div>\n",
       "<style scoped>\n",
       "    .dataframe tbody tr th:only-of-type {\n",
       "        vertical-align: middle;\n",
       "    }\n",
       "\n",
       "    .dataframe tbody tr th {\n",
       "        vertical-align: top;\n",
       "    }\n",
       "\n",
       "    .dataframe thead th {\n",
       "        text-align: right;\n",
       "    }\n",
       "</style>\n",
       "<table border=\"1\" class=\"dataframe\">\n",
       "  <thead>\n",
       "    <tr style=\"text-align: right;\">\n",
       "      <th></th>\n",
       "      <th>country_of_residence</th>\n",
       "      <th>q01</th>\n",
       "      <th>q02</th>\n",
       "      <th>q03</th>\n",
       "      <th>q04</th>\n",
       "      <th>q05</th>\n",
       "      <th>q06</th>\n",
       "      <th>q07</th>\n",
       "      <th>q08</th>\n",
       "      <th>q09</th>\n",
       "      <th>...</th>\n",
       "      <th>q20</th>\n",
       "      <th>q21</th>\n",
       "      <th>q22</th>\n",
       "      <th>q23</th>\n",
       "      <th>q24</th>\n",
       "      <th>q25</th>\n",
       "      <th>q26</th>\n",
       "      <th>q27</th>\n",
       "      <th>q28</th>\n",
       "      <th>q29</th>\n",
       "    </tr>\n",
       "  </thead>\n",
       "  <tbody>\n",
       "    <tr>\n",
       "      <th>0</th>\n",
       "      <td>UK</td>\n",
       "      <td>C</td>\n",
       "      <td>[B, C, D, G, I]</td>\n",
       "      <td>A</td>\n",
       "      <td>6</td>\n",
       "      <td>2</td>\n",
       "      <td>4</td>\n",
       "      <td>9</td>\n",
       "      <td>4</td>\n",
       "      <td>5</td>\n",
       "      <td>...</td>\n",
       "      <td>A</td>\n",
       "      <td>NaN</td>\n",
       "      <td>C</td>\n",
       "      <td>B</td>\n",
       "      <td>[B, C]</td>\n",
       "      <td>D</td>\n",
       "      <td>It engineer</td>\n",
       "      <td>C</td>\n",
       "      <td>A</td>\n",
       "      <td>3</td>\n",
       "    </tr>\n",
       "    <tr>\n",
       "      <th>1</th>\n",
       "      <td>UK</td>\n",
       "      <td>C</td>\n",
       "      <td>[B, D]</td>\n",
       "      <td>A</td>\n",
       "      <td>3</td>\n",
       "      <td>2</td>\n",
       "      <td>7</td>\n",
       "      <td>7</td>\n",
       "      <td>4</td>\n",
       "      <td>3</td>\n",
       "      <td>...</td>\n",
       "      <td>B</td>\n",
       "      <td>[A, B, C, D]</td>\n",
       "      <td>E</td>\n",
       "      <td>B</td>\n",
       "      <td>[A, B, C, D]</td>\n",
       "      <td>C</td>\n",
       "      <td>Marketing</td>\n",
       "      <td>B</td>\n",
       "      <td>A</td>\n",
       "      <td>6</td>\n",
       "    </tr>\n",
       "    <tr>\n",
       "      <th>2</th>\n",
       "      <td>UK</td>\n",
       "      <td>C</td>\n",
       "      <td>[B, D]</td>\n",
       "      <td>C</td>\n",
       "      <td>6</td>\n",
       "      <td>6</td>\n",
       "      <td>6</td>\n",
       "      <td>7</td>\n",
       "      <td>4</td>\n",
       "      <td>6</td>\n",
       "      <td>...</td>\n",
       "      <td>B</td>\n",
       "      <td>[D]</td>\n",
       "      <td>D</td>\n",
       "      <td>B</td>\n",
       "      <td>[A, B, D]</td>\n",
       "      <td>C</td>\n",
       "      <td>Consultancy</td>\n",
       "      <td>B</td>\n",
       "      <td>A</td>\n",
       "      <td>6</td>\n",
       "    </tr>\n",
       "  </tbody>\n",
       "</table>\n",
       "<p>3 rows × 30 columns</p>\n",
       "</div>"
      ],
      "text/plain": [
       "  country_of_residence q01              q02 q03  q04  q05  q06  q07  q08  q09  \\\n",
       "0                   UK   C  [B, C, D, G, I]   A    6    2    4    9    4    5   \n",
       "1                   UK   C           [B, D]   A    3    2    7    7    4    3   \n",
       "2                   UK   C           [B, D]   C    6    6    6    7    4    6   \n",
       "\n",
       "  ... q20           q21  q22  q23           q24 q25           q26 q27 q28 q29  \n",
       "0 ...   A           NaN    C    B        [B, C]   D   It engineer   C   A   3  \n",
       "1 ...   B  [A, B, C, D]    E    B  [A, B, C, D]   C    Marketing    B   A   6  \n",
       "2 ...   B           [D]    D    B     [A, B, D]   C  Consultancy    B   A   6  \n",
       "\n",
       "[3 rows x 30 columns]"
      ]
     },
     "execution_count": 71,
     "metadata": {},
     "output_type": "execute_result"
    }
   ],
   "source": [
    "we.head(3)"
   ]
  },
  {
   "cell_type": "markdown",
   "metadata": {},
   "source": [
    "### Categorisation of profession"
   ]
  },
  {
   "cell_type": "code",
   "execution_count": 12,
   "metadata": {},
   "outputs": [],
   "source": [
    "# we have gone done written a very simple class to translate\n",
    "# it uses selenium (web version and not the API) and sends the texts to google translate\n",
    "# see gtranslate.py\n",
    "from gtranslate import selenium_gtranslate"
   ]
  },
  {
   "cell_type": "code",
   "execution_count": 79,
   "metadata": {},
   "outputs": [],
   "source": [
    "# initiate\n",
    "transl = selenium_gtranslate()"
   ]
  },
  {
   "cell_type": "code",
   "execution_count": 80,
   "metadata": {
    "scrolled": true
   },
   "outputs": [
    {
     "name": "stdout",
     "output_type": "stream",
     "text": [
      "navigating to google translate\n",
      "now translating ...\n",
      "text no.12 complete,total time lapsed: 12.88108229637146 seconds, estimated time remaining: 332.7612926562627 secondsss... stale element ...!\n",
      "text no.96 complete,total time lapsed: 102.23595905303955 seconds, estimated time remaining: 240.68048693736392 seconds... stale element ...!\n",
      "text no.112 complete,total time lapsed: 119.28154015541077 seconds, estimated time remaining: 223.6528877913952 secondss... stale element ...!\n",
      "text no.320 complete,total time lapsed: 341.778391122818 seconds, estimated time remaining: 2.1361149445176126 secondsss"
     ]
    }
   ],
   "source": [
    "# translate in bulk\n",
    "translated = transl.translate_in_bulk(we.q26)"
   ]
  },
  {
   "cell_type": "markdown",
   "metadata": {},
   "source": [
    "As indicated above, we only had only 3 stale element error! hooray!"
   ]
  },
  {
   "cell_type": "markdown",
   "metadata": {},
   "source": [
    "let's comparthe res and the OGs"
   ]
  },
  {
   "cell_type": "code",
   "execution_count": 81,
   "metadata": {},
   "outputs": [],
   "source": [
    "# just for double safe guarding, let's see if we have any duplicated values\n",
    "suspect_idx = [i for i in range(1, len(translated)) if translated[i-1] == translated[i]]"
   ]
  },
  {
   "cell_type": "code",
   "execution_count": 82,
   "metadata": {},
   "outputs": [
    {
     "name": "stdout",
     "output_type": "stream",
     "text": [
      "**************** 17 ****************\n",
      "before: HACKING vs after: HACKING\n",
      "**************** 22 ****************\n",
      "before: ENGINEER vs after: ENGINEER\n",
      "**************** 59 ****************\n",
      "before: Self Employed... vs after: Self Employed...\n",
      "**************** 107 ****************\n",
      "before: student vs after: student\n",
      "**************** 134 ****************\n",
      "before: Financial Services Consultant vs after: Financial Services Consultant\n",
      "**************** 179 ****************\n",
      "before: Data science student vs after: Data science student\n"
     ]
    }
   ],
   "source": [
    "for suspect in suspect_idx:\n",
    "    print('**************** {} ****************'.format(suspect))\n",
    "    print('before: {} vs after: {}'.format(translated[suspect-1], translated[suspect]))"
   ]
  },
  {
   "cell_type": "markdown",
   "metadata": {},
   "source": [
    "Ok so we need to do this by hand for these values + the couple of stable element error lines"
   ]
  },
  {
   "cell_type": "code",
   "execution_count": 83,
   "metadata": {},
   "outputs": [],
   "source": [
    "# stale element idx\n",
    "empty_idx = [i for i,text in enumerate(translated) if text == '']"
   ]
  },
  {
   "cell_type": "code",
   "execution_count": 84,
   "metadata": {},
   "outputs": [],
   "source": [
    "# combing the lists\n",
    "all_idx_manual = empty_idx + suspect_idx"
   ]
  },
  {
   "cell_type": "code",
   "execution_count": 85,
   "metadata": {},
   "outputs": [
    {
     "name": "stdout",
     "output_type": "stream",
     "text": [
      "**************** 12 ****************\n",
      "Original: Student vs Translated: \n",
      "**************** 96 ****************\n",
      "Original: health psychology student vs Translated: \n",
      "**************** 112 ****************\n",
      "Original: Étudiant en commerce vs Translated: \n",
      "**************** 17 ****************\n",
      "Original: HACKING vs Translated: HACKING\n",
      "**************** 22 ****************\n",
      "Original: ENGINEER vs Translated: ENGINEER\n",
      "**************** 59 ****************\n",
      "Original: Project Management vs Translated: Self Employed...\n",
      "**************** 107 ****************\n",
      "Original: student vs Translated: student\n",
      "**************** 134 ****************\n",
      "Original: Consultant Services Financiers vs Translated: Financial Services Consultant\n",
      "**************** 179 ****************\n",
      "Original: Data science student vs Translated: Data science student\n"
     ]
    }
   ],
   "source": [
    "# let's see what the original values are\n",
    "for idx in all_idx_manual:\n",
    "    print('**************** {} ****************'.format(idx))\n",
    "    print('Original: {} vs Translated: {}'.format(we.q26[idx], translated[idx]))"
   ]
  },
  {
   "cell_type": "markdown",
   "metadata": {},
   "source": [
    "Funnily nothing is wrong, we could have a couple of duplicated responses coming directly from the surveys (raw data), let's compare the suspect idx"
   ]
  },
  {
   "cell_type": "markdown",
   "metadata": {},
   "source": [
    "We deal with the untranslated cases first otherwise the index is going to get messy"
   ]
  },
  {
   "cell_type": "code",
   "execution_count": 86,
   "metadata": {},
   "outputs": [
    {
     "data": {
      "text/plain": [
       "[12, 96, 112]"
      ]
     },
     "execution_count": 86,
     "metadata": {},
     "output_type": "execute_result"
    }
   ],
   "source": [
    "empty_idx"
   ]
  },
  {
   "cell_type": "code",
   "execution_count": 87,
   "metadata": {},
   "outputs": [],
   "source": [
    "# reassigning values\n",
    "we.loc[empty_idx[0], 'q26'] = 'student'\n",
    "we.loc[empty_idx[1], 'q26'] = 'health psychology student'\n",
    "we.loc[empty_idx[2], 'q26'] = 'business student'"
   ]
  },
  {
   "cell_type": "markdown",
   "metadata": {},
   "source": [
    "Now we deal with the duplicated lines"
   ]
  },
  {
   "cell_type": "code",
   "execution_count": 88,
   "metadata": {},
   "outputs": [],
   "source": [
    "# indices of the rows directly above the suspects\n",
    "above_suspect_idx = [idx-1 for idx in suspect_idx]"
   ]
  },
  {
   "cell_type": "code",
   "execution_count": 89,
   "metadata": {},
   "outputs": [],
   "source": [
    "# Let's measure the corresponding row's similarity\n",
    "similarity = []\n",
    "\n",
    "for i in range(len(suspect_idx)):\n",
    "    above = list(we.loc[above_suspect_idx[i], ])\n",
    "    below = list(we.loc[suspect_idx[i], ])\n",
    "    similarity.append(sum([above[i] == below[i] for i in range(len(text_above))])/len(text_above))"
   ]
  },
  {
   "cell_type": "code",
   "execution_count": 90,
   "metadata": {},
   "outputs": [
    {
     "data": {
      "text/plain": [
       "[0.5, 0.5, 0.26666666666666666, 0.16666666666666666, 0.4, 0.26666666666666666]"
      ]
     },
     "execution_count": 90,
     "metadata": {},
     "output_type": "execute_result"
    }
   ],
   "source": [
    "similarity"
   ]
  },
  {
   "cell_type": "markdown",
   "metadata": {},
   "source": [
    "None of them are exactly the same though, it's still highly unlikely that we have consecutive jobs = 'HACKING', 'ENGINEERING' and 'self_employed ...' <br>\n",
    "We'll go ahead and remove these 6 lines because I'm scared they come from amazon mechanical turk and haven't been filtered out properly"
   ]
  },
  {
   "cell_type": "code",
   "execution_count": 91,
   "metadata": {},
   "outputs": [],
   "source": [
    "# dropping suspects\n",
    "we.drop(suspect_idx[:3], axis = 0, inplace = True)"
   ]
  },
  {
   "cell_type": "code",
   "execution_count": 92,
   "metadata": {},
   "outputs": [],
   "source": [
    "# dropping suspects' upstairs neightbours\n",
    "we.drop(above_suspect_idx[:3], axis = 0, inplace = True)"
   ]
  },
  {
   "cell_type": "code",
   "execution_count": 93,
   "metadata": {},
   "outputs": [],
   "source": [
    "# resetting the index\n",
    "we.reset_index(drop = True, inplace = True)"
   ]
  },
  {
   "cell_type": "code",
   "execution_count": 94,
   "metadata": {},
   "outputs": [],
   "source": [
    "# specifying which ones to remove from the translated list\n",
    "to_remove_from_translated = suspect_idx[:3] + above_suspect_idx[:3]\n",
    "\n",
    "# removing these values from the translated list\n",
    "translated = [text for i,text in enumerate(translated) if i not in to_remove_from_translated]"
   ]
  },
  {
   "cell_type": "markdown",
   "metadata": {},
   "source": [
    "Now let's take care of the untranslated cases"
   ]
  },
  {
   "cell_type": "code",
   "execution_count": 97,
   "metadata": {},
   "outputs": [
    {
     "data": {
      "text/plain": [
       "(314, 314)"
      ]
     },
     "execution_count": 97,
     "metadata": {},
     "output_type": "execute_result"
    }
   ],
   "source": [
    "len(translated), len(we)"
   ]
  },
  {
   "cell_type": "markdown",
   "metadata": {},
   "source": [
    "Ok we can now replace q26 with the translated texts"
   ]
  },
  {
   "cell_type": "code",
   "execution_count": 98,
   "metadata": {},
   "outputs": [],
   "source": [
    "we.q26 = translated"
   ]
  },
  {
   "cell_type": "code",
   "execution_count": 100,
   "metadata": {},
   "outputs": [],
   "source": [
    "# we save this for now so that we can continue tomorrow\n",
    "with open(os.path.join(data_dir, 'we.pickle'), 'wb') as handle:\n",
    "    pickle.dump(we, handle)"
   ]
  },
  {
   "cell_type": "code",
   "execution_count": null,
   "metadata": {},
   "outputs": [],
   "source": []
  },
  {
   "cell_type": "code",
   "execution_count": 27,
   "metadata": {},
   "outputs": [
    {
     "data": {
      "text/plain": [
       "<matplotlib.axes._subplots.AxesSubplot at 0x117dd3c18>"
      ]
     },
     "execution_count": 27,
     "metadata": {},
     "output_type": "execute_result"
    },
    {
     "data": {
      "image/png": "[encoded data removed]",
      "text/plain": [
       "<matplotlib.figure.Figure at 0x117ca3588>"
      ]
     },
     "metadata": {},
     "output_type": "display_data"
    }
   ],
   "source": [
    "from matplotlib import pyplot as plt\n",
    "gm_all.q04.hist(bins = 70)"
   ]
  },
  {
   "cell_type": "code",
   "execution_count": 28,
   "metadata": {},
   "outputs": [
    {
     "data": {
      "image/png": "[encoded data removed]",
      "text/plain": [
       "<matplotlib.figure.Figure at 0x117dec9b0>"
      ]
     },
     "metadata": {},
     "output_type": "display_data"
    }
   ],
   "source": [
    "gm_all.q05.hist(bins = 70)\n",
    "plt.show()"
   ]
  },
  {
   "cell_type": "code",
   "execution_count": 29,
   "metadata": {},
   "outputs": [
    {
     "data": {
      "image/png": "[encoded data removed]",
      "text/plain": [
       "<matplotlib.figure.Figure at 0x1180a2d30>"
      ]
     },
     "metadata": {},
     "output_type": "display_data"
    }
   ],
   "source": [
    "pf_all.q04.hist(bins = 70)\n",
    "plt.show()"
   ]
  },
  {
   "cell_type": "code",
   "execution_count": 30,
   "metadata": {},
   "outputs": [
    {
     "data": {
      "image/png": "[encoded data removed]",
      "text/plain": [
       "<matplotlib.figure.Figure at 0x1180b3dd8>"
      ]
     },
     "metadata": {},
     "output_type": "display_data"
    }
   ],
   "source": [
    "pf_all.q05.hist(bins = 70)\n",
    "plt.show()"
   ]
  },
  {
   "cell_type": "code",
   "execution_count": 101,
   "metadata": {},
   "outputs": [
    {
     "data": {
      "text/plain": [
       "<matplotlib.axes._subplots.AxesSubplot at 0x118ef0dd8>"
      ]
     },
     "execution_count": 101,
     "metadata": {},
     "output_type": "execute_result"
    },
    {
     "data": {
      "image/png": "[encoded data removed]",
      "text/plain": [
       "<matplotlib.figure.Figure at 0x118ef0390>"
      ]
     },
     "metadata": {},
     "output_type": "display_data"
    }
   ],
   "source": [
    "we.q04.hist(bins = 70)"
   ]
  },
  {
   "cell_type": "code",
   "execution_count": 102,
   "metadata": {},
   "outputs": [
    {
     "data": {
      "text/plain": [
       "<matplotlib.axes._subplots.AxesSubplot at 0x118f52ba8>"
      ]
     },
     "execution_count": 102,
     "metadata": {},
     "output_type": "execute_result"
    },
    {
     "data": {
      "image/png": "[encoded data removed]",
      "text/plain": [
       "<matplotlib.figure.Figure at 0x1186d9198>"
      ]
     },
     "metadata": {},
     "output_type": "display_data"
    }
   ],
   "source": [
    "we.q05.hist(bins = 70)"
   ]
  },
  {
   "cell_type": "code",
   "execution_count": null,
   "metadata": {},
   "outputs": [],
   "source": []
  }
 ],
 "metadata": {
  "kernelspec": {
   "display_name": "Python 3",
   "language": "python",
   "name": "python3"
  },
  "language_info": {
   "codemirror_mode": {
    "name": "ipython",
    "version": 3
   },
   "file_extension": ".py",
   "mimetype": "text/x-python",
   "name": "python",
   "nbconvert_exporter": "python",
   "pygments_lexer": "ipython3",
   "version": "3.6.4"
  }
 },
 "nbformat": 4,
 "nbformat_minor": 2
}
