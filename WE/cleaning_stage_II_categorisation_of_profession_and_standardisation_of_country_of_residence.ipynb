{
 "cells": [
  {
   "cell_type": "code",
   "execution_count": 1,
   "metadata": {},
   "outputs": [],
   "source": [
    "import pandas as pd\n",
    "import os\n",
    "import pickle\n",
    "from collections import Counter"
   ]
  },
  {
   "cell_type": "markdown",
   "metadata": {},
   "source": [
    "### Loading in data"
   ]
  },
  {
   "cell_type": "code",
   "execution_count": 2,
   "metadata": {},
   "outputs": [],
   "source": [
    "# setting up the data directory\n",
    "data_dir = '../../AI_perception_survey_data/WE/cleaned'"
   ]
  },
  {
   "cell_type": "code",
   "execution_count": 3,
   "metadata": {},
   "outputs": [],
   "source": [
    "# listing data files\n",
    "all_files = os.listdir(data_dir)"
   ]
  },
  {
   "cell_type": "code",
   "execution_count": 4,
   "metadata": {},
   "outputs": [
    {
     "data": {
      "text/plain": [
       "['gm_all.pickle', 'pf_all.pickle']"
      ]
     },
     "execution_count": 4,
     "metadata": {},
     "output_type": "execute_result"
    }
   ],
   "source": [
    "# extracting the .pickle files\n",
    "all_files = [file for file in all_files if file.split('.')[1] == 'pickle']\n",
    "all_files"
   ]
  },
  {
   "cell_type": "code",
   "execution_count": 5,
   "metadata": {},
   "outputs": [],
   "source": [
    "# loading in the dataframes\n",
    "with open(os.path.join(data_dir, all_files[0]), 'rb') as handle:\n",
    "    gm_all = pickle.load(handle)\n",
    "with open(os.path.join(data_dir, all_files[1]), 'rb') as handle:\n",
    "    pf_all = pickle.load(handle)"
   ]
  },
  {
   "cell_type": "code",
   "execution_count": 6,
   "metadata": {},
   "outputs": [],
   "source": [
    "# concatenating\n",
    "we = pd.concat([gm_all, pf_all])"
   ]
  },
  {
   "cell_type": "markdown",
   "metadata": {},
   "source": [
    "### Standardisation of Country of Residence"
   ]
  },
  {
   "cell_type": "markdown",
   "metadata": {},
   "source": [
    "We went ahead and created a conversion dict, see country_conversion.py"
   ]
  },
  {
   "cell_type": "code",
   "execution_count": 7,
   "metadata": {},
   "outputs": [],
   "source": [
    "from country_conversion import country_conversion_dict"
   ]
  },
  {
   "cell_type": "code",
   "execution_count": 8,
   "metadata": {},
   "outputs": [],
   "source": [
    "# recode\n",
    "we.country_of_residence = [country_conversion_dict[country] for country in we.country_of_residence]"
   ]
  },
  {
   "cell_type": "code",
   "execution_count": 9,
   "metadata": {},
   "outputs": [
    {
     "data": {
      "text/plain": [
       "Counter({'BE': 18,\n",
       "         'CH': 6,\n",
       "         'DE': 102,\n",
       "         'ES': 2,\n",
       "         'FR': 153,\n",
       "         'IE': 1,\n",
       "         'LU': 1,\n",
       "         'NL': 8,\n",
       "         'PT': 1,\n",
       "         'UK': 89,\n",
       "         'non_WE': 8})"
      ]
     },
     "execution_count": 9,
     "metadata": {},
     "output_type": "execute_result"
    }
   ],
   "source": [
    "Counter(we.country_of_residence)"
   ]
  },
  {
   "cell_type": "markdown",
   "metadata": {},
   "source": [
    "OK so we've cleaned this up nicely, now let's go on and remove the non_WE entries"
   ]
  },
  {
   "cell_type": "code",
   "execution_count": 10,
   "metadata": {},
   "outputs": [],
   "source": [
    "we = we[[country != 'non_WE' for country in we.country_of_residence]].reset_index(drop = True)"
   ]
  },
  {
   "cell_type": "code",
   "execution_count": 11,
   "metadata": {},
   "outputs": [
    {
     "data": {
      "text/html": [
       "<div>\n",
       "<style scoped>\n",
       "    .dataframe tbody tr th:only-of-type {\n",
       "        vertical-align: middle;\n",
       "    }\n",
       "\n",
       "    .dataframe tbody tr th {\n",
       "        vertical-align: top;\n",
       "    }\n",
       "\n",
       "    .dataframe thead th {\n",
       "        text-align: right;\n",
       "    }\n",
       "</style>\n",
       "<table border=\"1\" class=\"dataframe\">\n",
       "  <thead>\n",
       "    <tr style=\"text-align: right;\">\n",
       "      <th></th>\n",
       "      <th>country_of_residence</th>\n",
       "      <th>q01</th>\n",
       "      <th>q02</th>\n",
       "      <th>q03</th>\n",
       "      <th>q04</th>\n",
       "      <th>q05</th>\n",
       "      <th>q06</th>\n",
       "      <th>q07</th>\n",
       "      <th>q08</th>\n",
       "      <th>q09</th>\n",
       "      <th>...</th>\n",
       "      <th>q20</th>\n",
       "      <th>q21</th>\n",
       "      <th>q22</th>\n",
       "      <th>q23</th>\n",
       "      <th>q24</th>\n",
       "      <th>q25</th>\n",
       "      <th>q26</th>\n",
       "      <th>q27</th>\n",
       "      <th>q28</th>\n",
       "      <th>q29</th>\n",
       "    </tr>\n",
       "  </thead>\n",
       "  <tbody>\n",
       "    <tr>\n",
       "      <th>0</th>\n",
       "      <td>UK</td>\n",
       "      <td>C</td>\n",
       "      <td>[B, C, D, G, I]</td>\n",
       "      <td>A</td>\n",
       "      <td>6</td>\n",
       "      <td>2</td>\n",
       "      <td>4</td>\n",
       "      <td>9</td>\n",
       "      <td>4</td>\n",
       "      <td>5</td>\n",
       "      <td>...</td>\n",
       "      <td>A</td>\n",
       "      <td>NaN</td>\n",
       "      <td>C</td>\n",
       "      <td>B</td>\n",
       "      <td>[B, C]</td>\n",
       "      <td>D</td>\n",
       "      <td>It engineer</td>\n",
       "      <td>C</td>\n",
       "      <td>A</td>\n",
       "      <td>3</td>\n",
       "    </tr>\n",
       "    <tr>\n",
       "      <th>1</th>\n",
       "      <td>UK</td>\n",
       "      <td>C</td>\n",
       "      <td>[B, D]</td>\n",
       "      <td>A</td>\n",
       "      <td>3</td>\n",
       "      <td>2</td>\n",
       "      <td>7</td>\n",
       "      <td>7</td>\n",
       "      <td>4</td>\n",
       "      <td>3</td>\n",
       "      <td>...</td>\n",
       "      <td>B</td>\n",
       "      <td>[A, B, C, D]</td>\n",
       "      <td>E</td>\n",
       "      <td>B</td>\n",
       "      <td>[A, B, C, D]</td>\n",
       "      <td>C</td>\n",
       "      <td>Marketing</td>\n",
       "      <td>B</td>\n",
       "      <td>A</td>\n",
       "      <td>6</td>\n",
       "    </tr>\n",
       "    <tr>\n",
       "      <th>2</th>\n",
       "      <td>UK</td>\n",
       "      <td>C</td>\n",
       "      <td>[B, D]</td>\n",
       "      <td>C</td>\n",
       "      <td>6</td>\n",
       "      <td>6</td>\n",
       "      <td>6</td>\n",
       "      <td>7</td>\n",
       "      <td>4</td>\n",
       "      <td>6</td>\n",
       "      <td>...</td>\n",
       "      <td>B</td>\n",
       "      <td>[D]</td>\n",
       "      <td>D</td>\n",
       "      <td>B</td>\n",
       "      <td>[A, B, D]</td>\n",
       "      <td>C</td>\n",
       "      <td>Consultancy</td>\n",
       "      <td>B</td>\n",
       "      <td>A</td>\n",
       "      <td>6</td>\n",
       "    </tr>\n",
       "  </tbody>\n",
       "</table>\n",
       "<p>3 rows × 30 columns</p>\n",
       "</div>"
      ],
      "text/plain": [
       "  country_of_residence q01              q02 q03  q04  q05  q06  q07  q08  q09  \\\n",
       "0                   UK   C  [B, C, D, G, I]   A    6    2    4    9    4    5   \n",
       "1                   UK   C           [B, D]   A    3    2    7    7    4    3   \n",
       "2                   UK   C           [B, D]   C    6    6    6    7    4    6   \n",
       "\n",
       "  ... q20           q21  q22  q23           q24 q25           q26 q27 q28 q29  \n",
       "0 ...   A           NaN    C    B        [B, C]   D   It engineer   C   A   3  \n",
       "1 ...   B  [A, B, C, D]    E    B  [A, B, C, D]   C    Marketing    B   A   6  \n",
       "2 ...   B           [D]    D    B     [A, B, D]   C  Consultancy    B   A   6  \n",
       "\n",
       "[3 rows x 30 columns]"
      ]
     },
     "execution_count": 11,
     "metadata": {},
     "output_type": "execute_result"
    }
   ],
   "source": [
    "we.head(3)"
   ]
  },
  {
   "cell_type": "markdown",
   "metadata": {},
   "source": [
    "### Categorisation of profession"
   ]
  },
  {
   "cell_type": "code",
   "execution_count": 23,
   "metadata": {},
   "outputs": [],
   "source": [
    "# we have gone done written a very simple class to translate\n",
    "# it uses selenium (web version and not the API) and sends the texts to google translate\n",
    "# see gtranslate.py\n",
    "from gtranslate import selenium_gtranslate"
   ]
  },
  {
   "cell_type": "code",
   "execution_count": 24,
   "metadata": {},
   "outputs": [],
   "source": [
    "# initiate\n",
    "transl = selenium_gtranslate()"
   ]
  },
  {
   "cell_type": "code",
   "execution_count": null,
   "metadata": {},
   "outputs": [],
   "source": [
    "# t"
   ]
  }
 ],
 "metadata": {
  "kernelspec": {
   "display_name": "Python 3",
   "language": "python",
   "name": "python3"
  },
  "language_info": {
   "codemirror_mode": {
    "name": "ipython",
    "version": 3
   },
   "file_extension": ".py",
   "mimetype": "text/x-python",
   "name": "python",
   "nbconvert_exporter": "python",
   "pygments_lexer": "ipython3",
   "version": "3.6.4"
  }
 },
 "nbformat": 4,
 "nbformat_minor": 2
}
