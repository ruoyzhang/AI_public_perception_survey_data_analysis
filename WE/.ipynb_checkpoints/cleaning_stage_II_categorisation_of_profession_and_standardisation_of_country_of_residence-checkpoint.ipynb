{
 "cells": [
  {
   "cell_type": "code",
   "execution_count": 1,
   "metadata": {},
   "outputs": [],
   "source": [
    "import pandas as pd\n",
    "import os\n",
    "import pickle\n",
    "from collections import Counter\n",
    "import time"
   ]
  },
  {
   "cell_type": "markdown",
   "metadata": {},
   "source": [
    "### Loading in data"
   ]
  },
  {
   "cell_type": "code",
   "execution_count": 2,
   "metadata": {},
   "outputs": [],
   "source": [
    "# setting up the data directory\n",
    "data_dir = '../../AI_perception_survey_data/WE/cleaned'"
   ]
  },
  {
   "cell_type": "code",
   "execution_count": 3,
   "metadata": {},
   "outputs": [],
   "source": [
    "# listing data files\n",
    "all_files = os.listdir(data_dir)"
   ]
  },
  {
   "cell_type": "code",
   "execution_count": 4,
   "metadata": {},
   "outputs": [
    {
     "data": {
      "text/plain": [
       "['gm_all.pickle', 'pf_all.pickle']"
      ]
     },
     "execution_count": 4,
     "metadata": {},
     "output_type": "execute_result"
    }
   ],
   "source": [
    "# extracting the .pickle files\n",
    "all_files = [file for file in all_files if file.split('.')[1] == 'pickle']\n",
    "all_files"
   ]
  },
  {
   "cell_type": "code",
   "execution_count": 5,
   "metadata": {},
   "outputs": [],
   "source": [
    "# loading in the dataframes\n",
    "with open(os.path.join(data_dir, all_files[0]), 'rb') as handle:\n",
    "    gm_all = pickle.load(handle)\n",
    "with open(os.path.join(data_dir, all_files[1]), 'rb') as handle:\n",
    "    pf_all = pickle.load(handle)"
   ]
  },
  {
   "cell_type": "code",
   "execution_count": 66,
   "metadata": {},
   "outputs": [],
   "source": [
    "# concatenating\n",
    "we = pd.concat([gm_all, pf_all])"
   ]
  },
  {
   "cell_type": "markdown",
   "metadata": {},
   "source": [
    "### Standardisation of Country of Residence"
   ]
  },
  {
   "cell_type": "markdown",
   "metadata": {},
   "source": [
    "We went ahead and created a conversion dict, see country_conversion.py"
   ]
  },
  {
   "cell_type": "code",
   "execution_count": 3,
   "metadata": {},
   "outputs": [],
   "source": [
    "from country_conversion import country_conversion_dict"
   ]
  },
  {
   "cell_type": "code",
   "execution_count": 68,
   "metadata": {},
   "outputs": [],
   "source": [
    "# recode\n",
    "we.country_of_residence = [country_conversion_dict[country] for country in we.country_of_residence]"
   ]
  },
  {
   "cell_type": "code",
   "execution_count": 69,
   "metadata": {},
   "outputs": [
    {
     "data": {
      "text/plain": [
       "Counter({'BE': 12,\n",
       "         'CH': 4,\n",
       "         'DE': 77,\n",
       "         'ES': 2,\n",
       "         'FR': 125,\n",
       "         'IE': 1,\n",
       "         'LU': 1,\n",
       "         'NL': 8,\n",
       "         'PT': 1,\n",
       "         'UK': 89,\n",
       "         'non_WE': 8})"
      ]
     },
     "execution_count": 69,
     "metadata": {},
     "output_type": "execute_result"
    }
   ],
   "source": [
    "Counter(we.country_of_residence)"
   ]
  },
  {
   "cell_type": "markdown",
   "metadata": {},
   "source": [
    "OK so we've cleaned this up nicely, now let's go on and remove the non_WE entries"
   ]
  },
  {
   "cell_type": "code",
   "execution_count": 70,
   "metadata": {},
   "outputs": [],
   "source": [
    "we = we[[country != 'non_WE' for country in we.country_of_residence]].reset_index(drop = True)"
   ]
  },
  {
   "cell_type": "code",
   "execution_count": 71,
   "metadata": {},
   "outputs": [
    {
     "data": {
      "text/html": [
       "<div>\n",
       "<style scoped>\n",
       "    .dataframe tbody tr th:only-of-type {\n",
       "        vertical-align: middle;\n",
       "    }\n",
       "\n",
       "    .dataframe tbody tr th {\n",
       "        vertical-align: top;\n",
       "    }\n",
       "\n",
       "    .dataframe thead th {\n",
       "        text-align: right;\n",
       "    }\n",
       "</style>\n",
       "<table border=\"1\" class=\"dataframe\">\n",
       "  <thead>\n",
       "    <tr style=\"text-align: right;\">\n",
       "      <th></th>\n",
       "      <th>country_of_residence</th>\n",
       "      <th>q01</th>\n",
       "      <th>q02</th>\n",
       "      <th>q03</th>\n",
       "      <th>q04</th>\n",
       "      <th>q05</th>\n",
       "      <th>q06</th>\n",
       "      <th>q07</th>\n",
       "      <th>q08</th>\n",
       "      <th>q09</th>\n",
       "      <th>...</th>\n",
       "      <th>q20</th>\n",
       "      <th>q21</th>\n",
       "      <th>q22</th>\n",
       "      <th>q23</th>\n",
       "      <th>q24</th>\n",
       "      <th>q25</th>\n",
       "      <th>q26</th>\n",
       "      <th>q27</th>\n",
       "      <th>q28</th>\n",
       "      <th>q29</th>\n",
       "    </tr>\n",
       "  </thead>\n",
       "  <tbody>\n",
       "    <tr>\n",
       "      <th>0</th>\n",
       "      <td>UK</td>\n",
       "      <td>C</td>\n",
       "      <td>[B, C, D, G, I]</td>\n",
       "      <td>A</td>\n",
       "      <td>6</td>\n",
       "      <td>2</td>\n",
       "      <td>4</td>\n",
       "      <td>9</td>\n",
       "      <td>4</td>\n",
       "      <td>5</td>\n",
       "      <td>...</td>\n",
       "      <td>A</td>\n",
       "      <td>NaN</td>\n",
       "      <td>C</td>\n",
       "      <td>B</td>\n",
       "      <td>[B, C]</td>\n",
       "      <td>D</td>\n",
       "      <td>It engineer</td>\n",
       "      <td>C</td>\n",
       "      <td>A</td>\n",
       "      <td>3</td>\n",
       "    </tr>\n",
       "    <tr>\n",
       "      <th>1</th>\n",
       "      <td>UK</td>\n",
       "      <td>C</td>\n",
       "      <td>[B, D]</td>\n",
       "      <td>A</td>\n",
       "      <td>3</td>\n",
       "      <td>2</td>\n",
       "      <td>7</td>\n",
       "      <td>7</td>\n",
       "      <td>4</td>\n",
       "      <td>3</td>\n",
       "      <td>...</td>\n",
       "      <td>B</td>\n",
       "      <td>[A, B, C, D]</td>\n",
       "      <td>E</td>\n",
       "      <td>B</td>\n",
       "      <td>[A, B, C, D]</td>\n",
       "      <td>C</td>\n",
       "      <td>Marketing</td>\n",
       "      <td>B</td>\n",
       "      <td>A</td>\n",
       "      <td>6</td>\n",
       "    </tr>\n",
       "    <tr>\n",
       "      <th>2</th>\n",
       "      <td>UK</td>\n",
       "      <td>C</td>\n",
       "      <td>[B, D]</td>\n",
       "      <td>C</td>\n",
       "      <td>6</td>\n",
       "      <td>6</td>\n",
       "      <td>6</td>\n",
       "      <td>7</td>\n",
       "      <td>4</td>\n",
       "      <td>6</td>\n",
       "      <td>...</td>\n",
       "      <td>B</td>\n",
       "      <td>[D]</td>\n",
       "      <td>D</td>\n",
       "      <td>B</td>\n",
       "      <td>[A, B, D]</td>\n",
       "      <td>C</td>\n",
       "      <td>Consultancy</td>\n",
       "      <td>B</td>\n",
       "      <td>A</td>\n",
       "      <td>6</td>\n",
       "    </tr>\n",
       "  </tbody>\n",
       "</table>\n",
       "<p>3 rows × 30 columns</p>\n",
       "</div>"
      ],
      "text/plain": [
       "  country_of_residence q01              q02 q03  q04  q05  q06  q07  q08  q09  \\\n",
       "0                   UK   C  [B, C, D, G, I]   A    6    2    4    9    4    5   \n",
       "1                   UK   C           [B, D]   A    3    2    7    7    4    3   \n",
       "2                   UK   C           [B, D]   C    6    6    6    7    4    6   \n",
       "\n",
       "  ... q20           q21  q22  q23           q24 q25           q26 q27 q28 q29  \n",
       "0 ...   A           NaN    C    B        [B, C]   D   It engineer   C   A   3  \n",
       "1 ...   B  [A, B, C, D]    E    B  [A, B, C, D]   C    Marketing    B   A   6  \n",
       "2 ...   B           [D]    D    B     [A, B, D]   C  Consultancy    B   A   6  \n",
       "\n",
       "[3 rows x 30 columns]"
      ]
     },
     "execution_count": 71,
     "metadata": {},
     "output_type": "execute_result"
    }
   ],
   "source": [
    "we.head(3)"
   ]
  },
  {
   "cell_type": "markdown",
   "metadata": {},
   "source": [
    "### Categorisation of profession"
   ]
  },
  {
   "cell_type": "code",
   "execution_count": 4,
   "metadata": {},
   "outputs": [],
   "source": [
    "# we have gone done written a very simple class to translate\n",
    "# it uses selenium (web version and not the API) and sends the texts to google translate\n",
    "# see gtranslate.py\n",
    "from gtranslate import selenium_gtranslate"
   ]
  },
  {
   "cell_type": "code",
   "execution_count": 79,
   "metadata": {},
   "outputs": [],
   "source": [
    "# initiate\n",
    "transl = selenium_gtranslate()"
   ]
  },
  {
   "cell_type": "code",
   "execution_count": 80,
   "metadata": {
    "scrolled": true
   },
   "outputs": [
    {
     "name": "stdout",
     "output_type": "stream",
     "text": [
      "navigating to google translate\n",
      "now translating ...\n",
      "text no.12 complete,total time lapsed: 12.88108229637146 seconds, estimated time remaining: 332.7612926562627 secondsss... stale element ...!\n",
      "text no.96 complete,total time lapsed: 102.23595905303955 seconds, estimated time remaining: 240.68048693736392 seconds... stale element ...!\n",
      "text no.112 complete,total time lapsed: 119.28154015541077 seconds, estimated time remaining: 223.6528877913952 secondss... stale element ...!\n",
      "text no.320 complete,total time lapsed: 341.778391122818 seconds, estimated time remaining: 2.1361149445176126 secondsss"
     ]
    }
   ],
   "source": [
    "# translate in bulk\n",
    "translated = transl.translate_in_bulk(we.q26)"
   ]
  },
  {
   "cell_type": "markdown",
   "metadata": {},
   "source": [
    "As indicated above, we only had only 3 stale element error! hooray!"
   ]
  },
  {
   "cell_type": "markdown",
   "metadata": {},
   "source": [
    "let's comparthe res and the OGs"
   ]
  },
  {
   "cell_type": "code",
   "execution_count": 81,
   "metadata": {},
   "outputs": [],
   "source": [
    "# just for double safe guarding, let's see if we have any duplicated values\n",
    "suspect_idx = [i for i in range(1, len(translated)) if translated[i-1] == translated[i]]"
   ]
  },
  {
   "cell_type": "code",
   "execution_count": 82,
   "metadata": {},
   "outputs": [
    {
     "name": "stdout",
     "output_type": "stream",
     "text": [
      "**************** 17 ****************\n",
      "before: HACKING vs after: HACKING\n",
      "**************** 22 ****************\n",
      "before: ENGINEER vs after: ENGINEER\n",
      "**************** 59 ****************\n",
      "before: Self Employed... vs after: Self Employed...\n",
      "**************** 107 ****************\n",
      "before: student vs after: student\n",
      "**************** 134 ****************\n",
      "before: Financial Services Consultant vs after: Financial Services Consultant\n",
      "**************** 179 ****************\n",
      "before: Data science student vs after: Data science student\n"
     ]
    }
   ],
   "source": [
    "for suspect in suspect_idx:\n",
    "    print('**************** {} ****************'.format(suspect))\n",
    "    print('before: {} vs after: {}'.format(translated[suspect-1], translated[suspect]))"
   ]
  },
  {
   "cell_type": "markdown",
   "metadata": {},
   "source": [
    "Ok so we need to do this by hand for these values + the couple of stable element error lines"
   ]
  },
  {
   "cell_type": "code",
   "execution_count": 83,
   "metadata": {},
   "outputs": [],
   "source": [
    "# stale element idx\n",
    "empty_idx = [i for i,text in enumerate(translated) if text == '']"
   ]
  },
  {
   "cell_type": "code",
   "execution_count": 84,
   "metadata": {},
   "outputs": [],
   "source": [
    "# combing the lists\n",
    "all_idx_manual = empty_idx + suspect_idx"
   ]
  },
  {
   "cell_type": "code",
   "execution_count": 85,
   "metadata": {},
   "outputs": [
    {
     "name": "stdout",
     "output_type": "stream",
     "text": [
      "**************** 12 ****************\n",
      "Original: Student vs Translated: \n",
      "**************** 96 ****************\n",
      "Original: health psychology student vs Translated: \n",
      "**************** 112 ****************\n",
      "Original: Étudiant en commerce vs Translated: \n",
      "**************** 17 ****************\n",
      "Original: HACKING vs Translated: HACKING\n",
      "**************** 22 ****************\n",
      "Original: ENGINEER vs Translated: ENGINEER\n",
      "**************** 59 ****************\n",
      "Original: Project Management vs Translated: Self Employed...\n",
      "**************** 107 ****************\n",
      "Original: student vs Translated: student\n",
      "**************** 134 ****************\n",
      "Original: Consultant Services Financiers vs Translated: Financial Services Consultant\n",
      "**************** 179 ****************\n",
      "Original: Data science student vs Translated: Data science student\n"
     ]
    }
   ],
   "source": [
    "# let's see what the original values are\n",
    "for idx in all_idx_manual:\n",
    "    print('**************** {} ****************'.format(idx))\n",
    "    print('Original: {} vs Translated: {}'.format(we.q26[idx], translated[idx]))"
   ]
  },
  {
   "cell_type": "markdown",
   "metadata": {},
   "source": [
    "Funnily nothing is wrong, we could have a couple of duplicated responses coming directly from the surveys (raw data), let's compare the suspect idx"
   ]
  },
  {
   "cell_type": "markdown",
   "metadata": {},
   "source": [
    "We deal with the untranslated cases first otherwise the index is going to get messy"
   ]
  },
  {
   "cell_type": "code",
   "execution_count": 86,
   "metadata": {},
   "outputs": [
    {
     "data": {
      "text/plain": [
       "[12, 96, 112]"
      ]
     },
     "execution_count": 86,
     "metadata": {},
     "output_type": "execute_result"
    }
   ],
   "source": [
    "empty_idx"
   ]
  },
  {
   "cell_type": "code",
   "execution_count": 87,
   "metadata": {},
   "outputs": [],
   "source": [
    "# reassigning values\n",
    "we.loc[empty_idx[0], 'q26'] = 'student'\n",
    "we.loc[empty_idx[1], 'q26'] = 'health psychology student'\n",
    "we.loc[empty_idx[2], 'q26'] = 'business student'"
   ]
  },
  {
   "cell_type": "markdown",
   "metadata": {},
   "source": [
    "Now we deal with the duplicated lines"
   ]
  },
  {
   "cell_type": "code",
   "execution_count": 88,
   "metadata": {},
   "outputs": [],
   "source": [
    "# indices of the rows directly above the suspects\n",
    "above_suspect_idx = [idx-1 for idx in suspect_idx]"
   ]
  },
  {
   "cell_type": "code",
   "execution_count": 89,
   "metadata": {},
   "outputs": [],
   "source": [
    "# Let's measure the corresponding row's similarity\n",
    "similarity = []\n",
    "\n",
    "for i in range(len(suspect_idx)):\n",
    "    above = list(we.loc[above_suspect_idx[i], ])\n",
    "    below = list(we.loc[suspect_idx[i], ])\n",
    "    similarity.append(sum([above[i] == below[i] for i in range(len(text_above))])/len(text_above))"
   ]
  },
  {
   "cell_type": "code",
   "execution_count": 90,
   "metadata": {},
   "outputs": [
    {
     "data": {
      "text/plain": [
       "[0.5, 0.5, 0.26666666666666666, 0.16666666666666666, 0.4, 0.26666666666666666]"
      ]
     },
     "execution_count": 90,
     "metadata": {},
     "output_type": "execute_result"
    }
   ],
   "source": [
    "similarity"
   ]
  },
  {
   "cell_type": "markdown",
   "metadata": {},
   "source": [
    "None of them are exactly the same though, it's still highly unlikely that we have consecutive jobs = 'HACKING', 'ENGINEERING' and 'self_employed ...' <br>\n",
    "We'll go ahead and remove these 6 lines because I'm scared they come from amazon mechanical turk and haven't been filtered out properly"
   ]
  },
  {
   "cell_type": "code",
   "execution_count": 91,
   "metadata": {},
   "outputs": [],
   "source": [
    "# dropping suspects\n",
    "we.drop(suspect_idx[:3], axis = 0, inplace = True)"
   ]
  },
  {
   "cell_type": "code",
   "execution_count": 92,
   "metadata": {},
   "outputs": [],
   "source": [
    "# dropping suspects' upstairs neightbours\n",
    "we.drop(above_suspect_idx[:3], axis = 0, inplace = True)"
   ]
  },
  {
   "cell_type": "code",
   "execution_count": 93,
   "metadata": {},
   "outputs": [],
   "source": [
    "# resetting the index\n",
    "we.reset_index(drop = True, inplace = True)"
   ]
  },
  {
   "cell_type": "code",
   "execution_count": 94,
   "metadata": {},
   "outputs": [],
   "source": [
    "# specifying which ones to remove from the translated list\n",
    "to_remove_from_translated = suspect_idx[:3] + above_suspect_idx[:3]\n",
    "\n",
    "# removing these values from the translated list\n",
    "translated = [text for i,text in enumerate(translated) if i not in to_remove_from_translated]"
   ]
  },
  {
   "cell_type": "markdown",
   "metadata": {},
   "source": [
    "Now let's take care of the untranslated cases"
   ]
  },
  {
   "cell_type": "code",
   "execution_count": 97,
   "metadata": {},
   "outputs": [
    {
     "data": {
      "text/plain": [
       "(314, 314)"
      ]
     },
     "execution_count": 97,
     "metadata": {},
     "output_type": "execute_result"
    }
   ],
   "source": [
    "len(translated), len(we)"
   ]
  },
  {
   "cell_type": "markdown",
   "metadata": {},
   "source": [
    "Ok we can now replace q26 with the translated texts"
   ]
  },
  {
   "cell_type": "code",
   "execution_count": 98,
   "metadata": {},
   "outputs": [],
   "source": [
    "we.q26 = translated"
   ]
  },
  {
   "cell_type": "code",
   "execution_count": 100,
   "metadata": {},
   "outputs": [],
   "source": [
    "# we save this for now so that we can continue tomorrow\n",
    "with open(os.path.join(data_dir, 'we.pickle'), 'wb') as handle:\n",
    "    pickle.dump(we, handle)"
   ]
  },
  {
   "cell_type": "markdown",
   "metadata": {},
   "source": [
    "## Cont'd: recoding jobs\n",
    "Dis gon be messy doe, argh"
   ]
  },
  {
   "cell_type": "code",
   "execution_count": 3,
   "metadata": {},
   "outputs": [],
   "source": [
    "# loading in the data again\n",
    "with open(os.path.join(data_dir, 'we.pickle'), 'rb') as handle:\n",
    "    we = pickle.load(handle)"
   ]
  },
  {
   "cell_type": "code",
   "execution_count": 4,
   "metadata": {},
   "outputs": [],
   "source": [
    "# some minor processing: getting rid of empty space, lower case everything, recoding empty entries\n",
    "we.q26 = [job.strip().lower() for job in we.q26]\n",
    "we.q26 = ['unemployed' if job in ['', '.', 'no', 'no occupation', 'none', 'unfortunately, i am currently unemployed. but when i work it has always been in retail.', \"i'm not working right now\", 'without'] else job for job in we.q26]\n",
    "we.q26 = ['carpenter' if job == 'tischlermeister' else job for job in we.q26]\n",
    "we.q26 = ['restaurant service' if job == 'servicefachkraft (gastronomy)' else job for job in we.q26]\n",
    "we.q26 = ['real estate' if job == 'immobilienkauffrau' else job for job in we.q26]"
   ]
  },
  {
   "cell_type": "code",
   "execution_count": 5,
   "metadata": {},
   "outputs": [],
   "source": [
    "# getting chars (all unique alphanumeric characters)\n",
    "chars = [[char for char in job] for job in we.q26]\n",
    "# flatten and creat one single list of unique vals\n",
    "chars_unique = list(set([item for sublist in chars for item in sublist]))\n",
    "# getting all the unique jobs\n",
    "jobs_unique = list(set(we.q26))"
   ]
  },
  {
   "cell_type": "code",
   "execution_count": 6,
   "metadata": {},
   "outputs": [
    {
     "data": {
      "text/plain": [
       "(38, 314, 219)"
      ]
     },
     "execution_count": 6,
     "metadata": {},
     "output_type": "execute_result"
    }
   ],
   "source": [
    "len(chars_unique), len(we), len(jobs_unique)"
   ]
  },
  {
   "cell_type": "code",
   "execution_count": 7,
   "metadata": {
    "collapsed": true
   },
   "outputs": [
    {
     "data": {
      "text/plain": [
       "['software professional',\n",
       " 'product manager',\n",
       " 'economist',\n",
       " 'lehramtstudent',\n",
       " 'administrative employee',\n",
       " 'student, business administration, working student software company',\n",
       " 'ladder',\n",
       " 'delivery man do products.',\n",
       " 'software developer',\n",
       " 'baker',\n",
       " 'banking',\n",
       " 'financial services consultant',\n",
       " 'business employee',\n",
       " 'phd student',\n",
       " 'it student',\n",
       " 'education',\n",
       " 'aeronautical engineer',\n",
       " 'm&a analyst',\n",
       " 'business administrator',\n",
       " 'data processing',\n",
       " 'real estate',\n",
       " 'students',\n",
       " 'ict',\n",
       " 'automotive designer',\n",
       " 'hr employee',\n",
       " 'official',\n",
       " 'nursery',\n",
       " 'student in data science',\n",
       " 'educator',\n",
       " 'special educational needs teacher',\n",
       " 'doctor',\n",
       " 'pathologue',\n",
       " 'business school student',\n",
       " 'prison officer',\n",
       " 'it engineer',\n",
       " 'lecturer',\n",
       " 'sales representative',\n",
       " 'medical student',\n",
       " 'electrical engineering/computer science',\n",
       " 'employee',\n",
       " 'financial audit',\n",
       " 'dipl.physiker + computer scientist',\n",
       " 'economics',\n",
       " 'i am an educator',\n",
       " 'process and biotechnology engineer',\n",
       " 'student',\n",
       " 'business school',\n",
       " 'computer scientist',\n",
       " 'physics student',\n",
       " 'communal secretary',\n",
       " 'civil engineer',\n",
       " 'it support technician',\n",
       " 'tax specialist',\n",
       " 'hr',\n",
       " 'accountant',\n",
       " 'data entry freelancer',\n",
       " 'aviation student',\n",
       " 'it and digital director',\n",
       " 'physics',\n",
       " 'engineering student',\n",
       " 'koch',\n",
       " 'software development',\n",
       " 'electrician',\n",
       " 'soldier and app developer',\n",
       " 'student data science',\n",
       " 'mechanical engineer packaging',\n",
       " 'it manager',\n",
       " 'it support',\n",
       " 'management student',\n",
       " 'master of business administration',\n",
       " 'engineer for supply engineering',\n",
       " 'help to the person',\n",
       " 'carpenter',\n",
       " 'bank',\n",
       " 'saleswoman',\n",
       " 'company manager',\n",
       " 'pka',\n",
       " 'seller',\n",
       " 'economics student',\n",
       " 'data science student',\n",
       " 'driver',\n",
       " 'machine operator',\n",
       " \"young children's educator\",\n",
       " 'general engineering',\n",
       " 'it intern',\n",
       " 'musician',\n",
       " 'consultant digital',\n",
       " 'consultant in digital transformation',\n",
       " 'saas',\n",
       " 'self employed mechanic',\n",
       " 'self employed',\n",
       " 'scaffolders',\n",
       " 'commercial',\n",
       " 'digital media student',\n",
       " 'ingeenier',\n",
       " 'receptionist',\n",
       " 'consultancy',\n",
       " 'project director',\n",
       " 'cnc milling',\n",
       " 'location netzer',\n",
       " 'microbiologist in agribusiness',\n",
       " 'logistics agent',\n",
       " 'phd neuroscience',\n",
       " 'retailer',\n",
       " 'hotel and catering',\n",
       " 'water management',\n",
       " 'mathematician',\n",
       " 'data engineer',\n",
       " 'retail',\n",
       " 'consultant',\n",
       " 'computer science student',\n",
       " 'business',\n",
       " 'ib student',\n",
       " 'recruitment agency',\n",
       " 'medical',\n",
       " 'finance',\n",
       " 'english and creative writing student',\n",
       " 'business city',\n",
       " 'expert trainer supporting trades',\n",
       " 'medical researcher',\n",
       " 'student in business school',\n",
       " 'marketing',\n",
       " 'student (philosophy)',\n",
       " 'psychologist',\n",
       " 'agronomist',\n",
       " 'computer engineer',\n",
       " 'anthropology',\n",
       " 'events management',\n",
       " 'electrical mechanic',\n",
       " 'higher education administration',\n",
       " 'with',\n",
       " 'sales support',\n",
       " 'maintenance mechanics and electrics',\n",
       " 'student in horticulture',\n",
       " 'plant operator',\n",
       " 'promotional media',\n",
       " 'teacher',\n",
       " 'pension',\n",
       " 'commercial computer',\n",
       " 'commercial employee',\n",
       " 'hydraulic studies manager',\n",
       " 'commerce',\n",
       " 'cleaning man',\n",
       " 'scientist',\n",
       " 'construction supervisor telecommunications',\n",
       " 'service agent, service agent',\n",
       " 'mechanical engineer',\n",
       " 'engineer',\n",
       " 'it%20consultant',\n",
       " 'unable acquisition',\n",
       " 'technical teacher',\n",
       " 'assistant to the management',\n",
       " 'secretary',\n",
       " 'lecturer in economics',\n",
       " 'student with intentions to enter medicine',\n",
       " 'junior consultant',\n",
       " 'lawyer',\n",
       " 'motorist',\n",
       " 'former medical admin/biomedical scientist',\n",
       " 'accounting',\n",
       " 'statistics',\n",
       " 'business/economy student',\n",
       " 'office assistant',\n",
       " 'student entrepreneur',\n",
       " 'administrative assistant',\n",
       " 'processing loose',\n",
       " 'supervisor',\n",
       " 'ceeo',\n",
       " 'communication',\n",
       " 'restaurant service',\n",
       " 'in interest',\n",
       " 'student in sustainability & social innovation',\n",
       " 'car mechanic',\n",
       " 'pensioner',\n",
       " 'unemployed',\n",
       " 'administrative manager',\n",
       " 'automated line driver',\n",
       " 'maths student',\n",
       " 'education assistant',\n",
       " 'as',\n",
       " 'data scientist',\n",
       " 'health insurance advisor',\n",
       " 'service to individuals',\n",
       " 'programmer',\n",
       " 'eu overcomes disability',\n",
       " 'barista',\n",
       " 'technician',\n",
       " 'graphic designer',\n",
       " 'climate sciences',\n",
       " 'technical framework',\n",
       " 'financial analyst',\n",
       " 'natural sciences',\n",
       " 'student in economic intelligence',\n",
       " 'technical product designer',\n",
       " 'metallurgical engineer',\n",
       " 'project manager / training',\n",
       " 'tourism',\n",
       " 'communication student',\n",
       " 'industrial engineer student',\n",
       " 'psychology lecturer',\n",
       " 'government',\n",
       " 'information technology',\n",
       " 'data analyst',\n",
       " 'worker',\n",
       " 'writer',\n",
       " 'manager',\n",
       " 'data science for good/pizza',\n",
       " 'housewife',\n",
       " 'mechanic',\n",
       " 'cnc specialist',\n",
       " 'food science student. i will later advise people and a personal conversation and empathy will never replace ki.',\n",
       " 'invalid',\n",
       " 'director of information systems',\n",
       " 'advertising student',\n",
       " 'care assistant',\n",
       " 'media',\n",
       " 'student at hec',\n",
       " 'student in journalism',\n",
       " 'account manager']"
      ]
     },
     "execution_count": 7,
     "metadata": {},
     "output_type": "execute_result"
    }
   ],
   "source": [
    "# let's take a look\n",
    "jobs_unique"
   ]
  },
  {
   "cell_type": "markdown",
   "metadata": {},
   "source": [
    "We have a few suspects: 'eu overcomes disability', 'pka', 'ceeo', 'as', 'koch', 'official', 'with', 'pathologue' <br>\n",
    "We'll go ahead and remove them"
   ]
  },
  {
   "cell_type": "code",
   "execution_count": 8,
   "metadata": {},
   "outputs": [],
   "source": [
    "jobs_to_remove = ['eu overcomes disability', 'pka', 'ceeo', 'as', 'koch', 'official', 'with', 'pathologue','metallurgical engineer','mechanic','location netzer','in interest', 'ladder','unable acquisition']"
   ]
  },
  {
   "cell_type": "code",
   "execution_count": 9,
   "metadata": {},
   "outputs": [],
   "source": [
    "# only 8 of them, so the risk associated with the removal is very limited, let's go!\n",
    "we = we[[job not in jobs_to_remove for job in we.q26]]\n",
    "we.reset_index(drop = True, inplace = True)"
   ]
  },
  {
   "cell_type": "code",
   "execution_count": 10,
   "metadata": {},
   "outputs": [
    {
     "data": {
      "text/plain": [
       "299"
      ]
     },
     "execution_count": 10,
     "metadata": {},
     "output_type": "execute_result"
    }
   ],
   "source": [
    "len(we)"
   ]
  },
  {
   "cell_type": "markdown",
   "metadata": {},
   "source": [
    "We still have nearly 300 results, so we've gotten rid of around 80 data points"
   ]
  },
  {
   "cell_type": "markdown",
   "metadata": {},
   "source": [
    "### Going forward:\n",
    "in order to keep consistency with the Cn dataset, and considering the volumn is not too big, we choose to do this by hand (which will be probably fast than running clusters etc)"
   ]
  },
  {
   "cell_type": "code",
   "execution_count": 11,
   "metadata": {},
   "outputs": [],
   "source": [
    "from jobs_dict import jobs_dict"
   ]
  },
  {
   "cell_type": "code",
   "execution_count": 12,
   "metadata": {},
   "outputs": [
    {
     "data": {
      "text/plain": [
       "Counter({'comp_sci_software_eng': 37,\n",
       "         'education': 15,\n",
       "         'engineering_various': 20,\n",
       "         'finance_acc_aud': 17,\n",
       "         'internet_digital_non_engineering': 4,\n",
       "         'media_culture_creative': 6,\n",
       "         'medical_professionals': 6,\n",
       "         'mgmt_various': 25,\n",
       "         'other': 78,\n",
       "         'professional_services': 6,\n",
       "         'public_service': 2,\n",
       "         'research': 16,\n",
       "         'student_various': 53,\n",
       "         'unemployed_retired': 14})"
      ]
     },
     "execution_count": 12,
     "metadata": {},
     "output_type": "execute_result"
    }
   ],
   "source": [
    "# let's take a look at the distribution\n",
    "Counter([jobs_dict[job] for job in we.q26])"
   ]
  },
  {
   "cell_type": "code",
   "execution_count": 13,
   "metadata": {},
   "outputs": [],
   "source": [
    "# recode jobs\n",
    "we.q26 = [jobs_dict[job] for job in we.q26]"
   ]
  },
  {
   "cell_type": "code",
   "execution_count": 14,
   "metadata": {},
   "outputs": [
    {
     "data": {
      "text/html": [
       "<div>\n",
       "<style scoped>\n",
       "    .dataframe tbody tr th:only-of-type {\n",
       "        vertical-align: middle;\n",
       "    }\n",
       "\n",
       "    .dataframe tbody tr th {\n",
       "        vertical-align: top;\n",
       "    }\n",
       "\n",
       "    .dataframe thead th {\n",
       "        text-align: right;\n",
       "    }\n",
       "</style>\n",
       "<table border=\"1\" class=\"dataframe\">\n",
       "  <thead>\n",
       "    <tr style=\"text-align: right;\">\n",
       "      <th></th>\n",
       "      <th>country_of_residence</th>\n",
       "      <th>q01</th>\n",
       "      <th>q02</th>\n",
       "      <th>q03</th>\n",
       "      <th>q04</th>\n",
       "      <th>q05</th>\n",
       "      <th>q06</th>\n",
       "      <th>q07</th>\n",
       "      <th>q08</th>\n",
       "      <th>q09</th>\n",
       "      <th>...</th>\n",
       "      <th>q20</th>\n",
       "      <th>q21</th>\n",
       "      <th>q22</th>\n",
       "      <th>q23</th>\n",
       "      <th>q24</th>\n",
       "      <th>q25</th>\n",
       "      <th>q26</th>\n",
       "      <th>q27</th>\n",
       "      <th>q28</th>\n",
       "      <th>q29</th>\n",
       "    </tr>\n",
       "  </thead>\n",
       "  <tbody>\n",
       "    <tr>\n",
       "      <th>0</th>\n",
       "      <td>UK</td>\n",
       "      <td>C</td>\n",
       "      <td>[B, C, D, G, I]</td>\n",
       "      <td>A</td>\n",
       "      <td>6</td>\n",
       "      <td>2</td>\n",
       "      <td>4</td>\n",
       "      <td>9</td>\n",
       "      <td>4</td>\n",
       "      <td>5</td>\n",
       "      <td>...</td>\n",
       "      <td>A</td>\n",
       "      <td>NaN</td>\n",
       "      <td>C</td>\n",
       "      <td>B</td>\n",
       "      <td>[B, C]</td>\n",
       "      <td>D</td>\n",
       "      <td>comp_sci_software_eng</td>\n",
       "      <td>C</td>\n",
       "      <td>A</td>\n",
       "      <td>3</td>\n",
       "    </tr>\n",
       "    <tr>\n",
       "      <th>1</th>\n",
       "      <td>UK</td>\n",
       "      <td>C</td>\n",
       "      <td>[B, D]</td>\n",
       "      <td>A</td>\n",
       "      <td>3</td>\n",
       "      <td>2</td>\n",
       "      <td>7</td>\n",
       "      <td>7</td>\n",
       "      <td>4</td>\n",
       "      <td>3</td>\n",
       "      <td>...</td>\n",
       "      <td>B</td>\n",
       "      <td>[A, B, C, D]</td>\n",
       "      <td>E</td>\n",
       "      <td>B</td>\n",
       "      <td>[A, B, C, D]</td>\n",
       "      <td>C</td>\n",
       "      <td>other</td>\n",
       "      <td>B</td>\n",
       "      <td>A</td>\n",
       "      <td>6</td>\n",
       "    </tr>\n",
       "    <tr>\n",
       "      <th>2</th>\n",
       "      <td>UK</td>\n",
       "      <td>C</td>\n",
       "      <td>[B, D]</td>\n",
       "      <td>C</td>\n",
       "      <td>6</td>\n",
       "      <td>6</td>\n",
       "      <td>6</td>\n",
       "      <td>7</td>\n",
       "      <td>4</td>\n",
       "      <td>6</td>\n",
       "      <td>...</td>\n",
       "      <td>B</td>\n",
       "      <td>[D]</td>\n",
       "      <td>D</td>\n",
       "      <td>B</td>\n",
       "      <td>[A, B, D]</td>\n",
       "      <td>C</td>\n",
       "      <td>professional_services</td>\n",
       "      <td>B</td>\n",
       "      <td>A</td>\n",
       "      <td>6</td>\n",
       "    </tr>\n",
       "  </tbody>\n",
       "</table>\n",
       "<p>3 rows × 30 columns</p>\n",
       "</div>"
      ],
      "text/plain": [
       "  country_of_residence q01              q02 q03  q04  q05  q06  q07  q08  q09  \\\n",
       "0                   UK   C  [B, C, D, G, I]   A    6    2    4    9    4    5   \n",
       "1                   UK   C           [B, D]   A    3    2    7    7    4    3   \n",
       "2                   UK   C           [B, D]   C    6    6    6    7    4    6   \n",
       "\n",
       "  ... q20           q21  q22  q23           q24 q25                    q26  \\\n",
       "0 ...   A           NaN    C    B        [B, C]   D  comp_sci_software_eng   \n",
       "1 ...   B  [A, B, C, D]    E    B  [A, B, C, D]   C                  other   \n",
       "2 ...   B           [D]    D    B     [A, B, D]   C  professional_services   \n",
       "\n",
       "  q27 q28 q29  \n",
       "0   C   A   3  \n",
       "1   B   A   6  \n",
       "2   B   A   6  \n",
       "\n",
       "[3 rows x 30 columns]"
      ]
     },
     "execution_count": 14,
     "metadata": {},
     "output_type": "execute_result"
    }
   ],
   "source": [
    "we.head(3)"
   ]
  },
  {
   "cell_type": "markdown",
   "metadata": {},
   "source": [
    "### VERYGOOD\n",
    "We done this stage of cleaning, now let's move onto the actual analysis and make a dash board of some sorts"
   ]
  },
  {
   "cell_type": "code",
   "execution_count": 15,
   "metadata": {},
   "outputs": [],
   "source": [
    "# save_again\n",
    "# we save this for now so that we can continue tomorrow\n",
    "with open(os.path.join(data_dir, 'we_v2.pickle'), 'wb') as handle:\n",
    "    pickle.dump(we, handle)"
   ]
  }
 ],
 "metadata": {
  "kernelspec": {
   "display_name": "Python 3",
   "language": "python",
   "name": "python3"
  },
  "language_info": {
   "codemirror_mode": {
    "name": "ipython",
    "version": 3
   },
   "file_extension": ".py",
   "mimetype": "text/x-python",
   "name": "python",
   "nbconvert_exporter": "python",
   "pygments_lexer": "ipython3",
   "version": "3.6.4"
  }
 },
 "nbformat": 4,
 "nbformat_minor": 2
}
