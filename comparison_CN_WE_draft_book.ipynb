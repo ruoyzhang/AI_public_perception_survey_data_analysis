{
 "cells": [
  {
   "cell_type": "code",
   "execution_count": 2,
   "metadata": {},
   "outputs": [],
   "source": [
    "import pandas as pd\n",
    "import pickle\n",
    "from matplotlib import pyplot as plt\n",
    "import os"
   ]
  },
  {
   "cell_type": "markdown",
   "metadata": {},
   "source": [
    "### Let's load in the 2 datasets"
   ]
  },
  {
   "cell_type": "code",
   "execution_count": 7,
   "metadata": {},
   "outputs": [],
   "source": [
    "# setting the data directory\n",
    "data_dir_WE = os.path.join('..','AI_perception_survey_data', 'WE', 'cleaned')\n",
    "data_dir_CN = os.path.join('..','AI_perception_survey_data', 'CN', 'cleaned')"
   ]
  },
  {
   "cell_type": "code",
   "execution_count": 9,
   "metadata": {},
   "outputs": [],
   "source": [
    "# Reading data\n",
    "# CN\n",
    "with open(os.path.join(data_dir_CN, 'wc_all.pickle'), 'rb') as handle:\n",
    "    data_cn = pickle.load(handle)\n",
    "# We\n",
    "with open(os.path.join(data_dir_WE, 'we_v2.pickle'), 'rb') as handle:\n",
    "    data_we = pickle.load(handle)"
   ]
  },
  {
   "cell_type": "code",
   "execution_count": null,
   "metadata": {},
   "outputs": [],
   "source": []
  }
 ],
 "metadata": {
  "kernelspec": {
   "display_name": "Python 3",
   "language": "python",
   "name": "python3"
  },
  "language_info": {
   "codemirror_mode": {
    "name": "ipython",
    "version": 3
   },
   "file_extension": ".py",
   "mimetype": "text/x-python",
   "name": "python",
   "nbconvert_exporter": "python",
   "pygments_lexer": "ipython3",
   "version": "3.6.4"
  }
 },
 "nbformat": 4,
 "nbformat_minor": 2
}
