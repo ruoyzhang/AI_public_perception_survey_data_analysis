{
 "cells": [
  {
   "cell_type": "code",
   "execution_count": 1,
   "metadata": {},
   "outputs": [],
   "source": [
    "import pandas as pd\n",
    "import pickle\n",
    "from matplotlib import pyplot as plt\n",
    "import os\n",
    "from collections import Counter\n",
    "from WE.answer_dict import uk_dict\n",
    "import numpy as np\n",
    "from matplotlib.pyplot import figure"
   ]
  },
  {
   "cell_type": "code",
   "execution_count": 2,
   "metadata": {},
   "outputs": [],
   "source": [
    "import plotly.graph_objs as go\n",
    "import dash_core_components as dcc"
   ]
  },
  {
   "cell_type": "code",
   "execution_count": 3,
   "metadata": {},
   "outputs": [],
   "source": [
    "# setting the data directory\n",
    "data_dir_WE = os.path.join('..','AI_perception_survey_data', 'WE', 'cleaned')\n",
    "data_dir_CN = os.path.join('..','AI_perception_survey_data', 'CN', 'cleaned')"
   ]
  },
  {
   "cell_type": "code",
   "execution_count": 4,
   "metadata": {},
   "outputs": [],
   "source": [
    "# Reading data\n",
    "# CN\n",
    "with open(os.path.join(data_dir_CN, 'wc_all.pickle'), 'rb') as handle:\n",
    "    data_cn = pickle.load(handle)\n",
    "# We\n",
    "with open(os.path.join(data_dir_WE, 'we_v2.pickle'), 'rb') as handle:\n",
    "    data_we = pickle.load(handle)"
   ]
  },
  {
   "cell_type": "code",
   "execution_count": 5,
   "metadata": {},
   "outputs": [],
   "source": [
    "from custom_viz import custom_viz"
   ]
  },
  {
   "cell_type": "code",
   "execution_count": 6,
   "metadata": {},
   "outputs": [],
   "source": [
    "test = custom_viz(data_cn, data_we)"
   ]
  },
  {
   "cell_type": "code",
   "execution_count": 7,
   "metadata": {
    "collapsed": true
   },
   "outputs": [
    {
     "data": {
      "text/plain": [
       "{'data': [{'hoverinfo': 'x+name',\n",
       "   'marker': {'color': '#BD2F28'},\n",
       "   'name': 1,\n",
       "   'orientation': 'h',\n",
       "   'type': 'bar',\n",
       "   'x': (2.34, 0.41),\n",
       "   'y': ['WE', 'CN']},\n",
       "  {'hoverinfo': 'x+name',\n",
       "   'marker': {'color': '#D14030'},\n",
       "   'name': 2,\n",
       "   'orientation': 'h',\n",
       "   'type': 'bar',\n",
       "   'x': (6.69, 0.31),\n",
       "   'y': ['WE', 'CN']},\n",
       "  {'hoverinfo': 'x+name',\n",
       "   'marker': {'color': '#FA8E8E'},\n",
       "   'name': 3,\n",
       "   'orientation': 'h',\n",
       "   'type': 'bar',\n",
       "   'x': (12.71, 0.71),\n",
       "   'y': ['WE', 'CN']},\n",
       "  {'hoverinfo': 'x+name',\n",
       "   'marker': {'color': 'gainsboro'},\n",
       "   'name': 4,\n",
       "   'orientation': 'h',\n",
       "   'type': 'bar',\n",
       "   'x': (25.75, 8.35),\n",
       "   'y': ['WE', 'CN']},\n",
       "  {'hoverinfo': 'x+name',\n",
       "   'marker': {'color': '#5BCAFF'},\n",
       "   'name': 5,\n",
       "   'orientation': 'h',\n",
       "   'type': 'bar',\n",
       "   'x': (27.76, 15.99),\n",
       "   'y': ['WE', 'CN']},\n",
       "  {'hoverinfo': 'x+name',\n",
       "   'marker': {'color': '#2D7EFF'},\n",
       "   'name': 6,\n",
       "   'orientation': 'h',\n",
       "   'type': 'bar',\n",
       "   'x': (14.72, 34.52),\n",
       "   'y': ['WE', 'CN']},\n",
       "  {'hoverinfo': 'x+name',\n",
       "   'marker': {'color': '#2B59FF'},\n",
       "   'name': 7,\n",
       "   'orientation': 'h',\n",
       "   'type': 'bar',\n",
       "   'x': (10.03, 39.71),\n",
       "   'y': ['WE', 'CN']}],\n",
       " 'layout': {'barmode': 'stack', 'title': 'How will life be in 10 years?'}}"
      ]
     },
     "execution_count": 7,
     "metadata": {},
     "output_type": "execute_result"
    }
   ],
   "source": [
    "test.distribute('ls,q29')"
   ]
  },
  {
   "cell_type": "code",
   "execution_count": 8,
   "metadata": {
    "collapsed": true
   },
   "outputs": [
    {
     "data": {
      "text/plain": [
       "{'data': [{'domain': {'column': 0},\n",
       "   'hole': 0.5,\n",
       "   'hoverinfo': 'label+percent+name',\n",
       "   'labels': ['comp_sci_software_eng',\n",
       "    'education',\n",
       "    'engineer_various',\n",
       "    'finance_acc_aud',\n",
       "    'internet_non_enginerring',\n",
       "    'media_culture_creative',\n",
       "    'medical_professionals',\n",
       "    'mgmt_various',\n",
       "    'public_security',\n",
       "    'public_service',\n",
       "    'research',\n",
       "    'student_various',\n",
       "    'other'],\n",
       "   'name': 'China',\n",
       "   'type': 'pie',\n",
       "   'values': [45, 45, 105, 71, 11, 21, 39, 38, 70, 19, 3, 323, 192]},\n",
       "  {'domain': {'column': 1},\n",
       "   'hole': 0.5,\n",
       "   'hoverinfo': 'label+percent+name',\n",
       "   'labels': ['comp_sci_software_eng',\n",
       "    'education',\n",
       "    'engineering_various',\n",
       "    'finance_acc_aud',\n",
       "    'internet_digital_non_engineering',\n",
       "    'media_culture_creative',\n",
       "    'medical_professionals',\n",
       "    'mgmt_various',\n",
       "    'professional_services',\n",
       "    'public_service',\n",
       "    'research',\n",
       "    'student_various',\n",
       "    'unemployed_retired',\n",
       "    'other'],\n",
       "   'name': 'Western Europe',\n",
       "   'type': 'pie',\n",
       "   'values': [37, 15, 20, 17, 4, 6, 6, 25, 6, 2, 16, 53, 14, 78]}],\n",
       " 'layout': {'annotations': [{'ax': 0,\n",
       "    'ay': 0,\n",
       "    'shadow': False,\n",
       "    'text': 'China',\n",
       "    'x': 0.2,\n",
       "    'y': 1},\n",
       "   {'ax': 0,\n",
       "    'ay': 0,\n",
       "    'shadow': False,\n",
       "    'text': 'Western Europe',\n",
       "    'x': 0.8,\n",
       "    'y': 1}],\n",
       "  'grid': {'columns': 2, 'rows': 1},\n",
       "  'title': '[Demographic] Profession'}}"
      ]
     },
     "execution_count": 8,
     "metadata": {},
     "output_type": "execute_result"
    }
   ],
   "source": [
    "test.prep_data_SC('q26')"
   ]
  },
  {
   "cell_type": "code",
   "execution_count": 16,
   "metadata": {},
   "outputs": [
    {
     "data": {
      "text/plain": [
       "['A', ' B', ' C', ' D']"
      ]
     },
     "execution_count": 16,
     "metadata": {},
     "output_type": "execute_result"
    }
   ],
   "source": [
    "data_cn.q10[2]"
   ]
  },
  {
   "cell_type": "code",
   "execution_count": 57,
   "metadata": {},
   "outputs": [
    {
     "data": {
      "text/plain": [
       "['none']"
      ]
     },
     "execution_count": 57,
     "metadata": {},
     "output_type": "execute_result"
    }
   ],
   "source": [
    "'none'.split(',')"
   ]
  },
  {
   "cell_type": "code",
   "execution_count": 62,
   "metadata": {},
   "outputs": [],
   "source": [
    "job_dict={'A': 'comp_sci_software_eng',\n",
    "'B': 'education',\n",
    "'C': 'engineer_various',\n",
    "'D': 'engineering_various',\n",
    "'E': 'finance_acc_aud',\n",
    "'F': 'internet_digital_non_engineering',\n",
    "'G': 'internet_non_enginerring',\n",
    "'H': 'media_culture_creative',\n",
    "'I': 'medical_professionals',\n",
    "'J': 'mgmt_various',\n",
    "'K': 'professional_services',\n",
    "'L': 'public_security',\n",
    "'M': 'public_service',\n",
    "'N': 'research',\n",
    "'O': 'student_various',\n",
    "'P': 'unemployed_retired','Q': 'other'}"
   ]
  },
  {
   "cell_type": "code",
   "execution_count": 65,
   "metadata": {},
   "outputs": [],
   "source": [
    "job_dict={'comp_sci_software_eng':'A',\n",
    "'education':'B',\n",
    "'engineering_various':'C',\n",
    "'finance_acc_aud':'D',\n",
    "'internet_digital_non_engineering':'E',\n",
    "'media_culture_creative':'F',\n",
    "'medical_professionals':'G',\n",
    "'mgmt_various':'H',\n",
    "'professional_services':'I',\n",
    "'public_service':'J',\n",
    "'research':'K',\n",
    "'student_various':'L',\n",
    "'unemployed_retired':'M',\n",
    "'other':'N'}"
   ]
  },
  {
   "cell_type": "code",
   "execution_count": 68,
   "metadata": {
    "scrolled": true
   },
   "outputs": [],
   "source": [
    "data_cn.q26 = [job_dict[job] for job in data_cn.q26]"
   ]
  },
  {
   "cell_type": "code",
   "execution_count": 69,
   "metadata": {},
   "outputs": [],
   "source": [
    "data_we.q26 = [job_dict[job] for job in data_we.q26]"
   ]
  },
  {
   "cell_type": "code",
   "execution_count": null,
   "metadata": {},
   "outputs": [],
   "source": []
  },
  {
   "cell_type": "code",
   "execution_count": null,
   "metadata": {},
   "outputs": [],
   "source": []
  },
  {
   "cell_type": "code",
   "execution_count": null,
   "metadata": {},
   "outputs": [],
   "source": []
  },
  {
   "cell_type": "code",
   "execution_count": null,
   "metadata": {},
   "outputs": [],
   "source": []
  },
  {
   "cell_type": "code",
   "execution_count": null,
   "metadata": {},
   "outputs": [],
   "source": []
  },
  {
   "cell_type": "code",
   "execution_count": null,
   "metadata": {},
   "outputs": [],
   "source": []
  },
  {
   "cell_type": "code",
   "execution_count": 53,
   "metadata": {},
   "outputs": [],
   "source": [
    "def strip_mc(q_num, pays):\n",
    "    if pays == 'cn':\n",
    "        return([[opt.strip() for opt in ans] for ans in data_cn[q_num]])\n",
    "    elif pays == 'we':\n",
    "        return([[opt.strip() for opt in ans] if isinstance(ans, list) else ans for ans in data_we[q_num]])\n",
    "    else:\n",
    "        pass"
   ]
  },
  {
   "cell_type": "code",
   "execution_count": null,
   "metadata": {},
   "outputs": [],
   "source": []
  }
 ],
 "metadata": {
  "kernelspec": {
   "display_name": "Python 3",
   "language": "python",
   "name": "python3"
  },
  "language_info": {
   "codemirror_mode": {
    "name": "ipython",
    "version": 3
   },
   "file_extension": ".py",
   "mimetype": "text/x-python",
   "name": "python",
   "nbconvert_exporter": "python",
   "pygments_lexer": "ipython3",
   "version": "3.6.4"
  }
 },
 "nbformat": 4,
 "nbformat_minor": 2
}
